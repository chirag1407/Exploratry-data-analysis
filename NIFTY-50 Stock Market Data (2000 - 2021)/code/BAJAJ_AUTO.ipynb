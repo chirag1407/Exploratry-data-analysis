{
  "nbformat": 4,
  "nbformat_minor": 0,
  "metadata": {
    "kernelspec": {
      "language": "python",
      "display_name": "Python 3",
      "name": "python3"
    },
    "language_info": {
      "name": "python",
      "version": "3.7.9",
      "mimetype": "text/x-python",
      "codemirror_mode": {
        "name": "ipython",
        "version": 3
      },
      "pygments_lexer": "ipython3",
      "nbconvert_exporter": "python",
      "file_extension": ".py"
    },
    "colab": {
      "name": "BAJAJ-AUTO.ipynb",
      "provenance": []
    }
  },
  "cells": [
    {
      "cell_type": "markdown",
      "metadata": {
        "id": "kTVNlVq0H1nb"
      },
      "source": [
        "#Exploratry data analysis \n",
        "\n",
        "\n",
        "TODO- To talk about the dataset and EDA\n",
        "      source-kaggle.\n",
        "      "
      ]
    },
    {
      "cell_type": "code",
      "metadata": {
        "id": "1-OWnmUCH1ne",
        "trusted": true
      },
      "source": [
        "!pip install opendatasets --upgrade --quiet"
      ],
      "execution_count": 1,
      "outputs": []
    },
    {
      "cell_type": "code",
      "metadata": {
        "colab": {
          "base_uri": "https://localhost:8080/"
        },
        "id": "GepS3jAtNew8",
        "outputId": "a9cb8736-a683-4efe-e09f-680ffe688523"
      },
      "source": [
        "import opendatasets as od\n",
        "\n",
        "download_url = 'https://www.kaggle.com/rohanrao/nifty50-stock-market-data'\n",
        "\n",
        "od.download(download_url)"
      ],
      "execution_count": 2,
      "outputs": [
        {
          "output_type": "stream",
          "text": [
            "Please provide your Kaggle credentials to download this dataset. Learn more: http://bit.ly/kaggle-creds\n",
            "Your Kaggle username: chiragkumarprajapat\n",
            "Your Kaggle Key: ··········\n"
          ],
          "name": "stdout"
        },
        {
          "output_type": "stream",
          "text": [
            " 43%|████▎     | 8.00M/18.4M [00:00<00:00, 82.2MB/s]"
          ],
          "name": "stderr"
        },
        {
          "output_type": "stream",
          "text": [
            "Downloading nifty50-stock-market-data.zip to ./nifty50-stock-market-data\n"
          ],
          "name": "stdout"
        },
        {
          "output_type": "stream",
          "text": [
            "100%|██████████| 18.4M/18.4M [00:00<00:00, 43.5MB/s]\n"
          ],
          "name": "stderr"
        },
        {
          "output_type": "stream",
          "text": [
            "\n"
          ],
          "name": "stdout"
        }
      ]
    },
    {
      "cell_type": "code",
      "metadata": {
        "id": "l52UQ6-dNiFR"
      },
      "source": [
        "data_file=\"./nifty50-stock-market-data/BAJAJ-AUTO.csv\""
      ],
      "execution_count": 4,
      "outputs": []
    },
    {
      "cell_type": "markdown",
      "metadata": {
        "id": "w2GcOmguJ58B"
      },
      "source": [
        "Data preparation and cleaning\n",
        "1. Loading file using pandas\n",
        "2. We will see some info about data\n",
        "3. If there any incorrect value or missing value will fix that"
      ]
    },
    {
      "cell_type": "code",
      "metadata": {
        "id": "07u4AS6iH1nf",
        "trusted": true
      },
      "source": [
        "#importing libraries\n",
        "import pandas as pd\n"
      ],
      "execution_count": 5,
      "outputs": []
    },
    {
      "cell_type": "code",
      "metadata": {
        "id": "_nP-Y0dmKQ1P",
        "trusted": true,
        "colab": {
          "base_uri": "https://localhost:8080/",
          "height": 407
        },
        "outputId": "372948e4-a32a-4e1d-bbed-dcafcb934c7a"
      },
      "source": [
        "#reading the data into dataframes\n",
        "df= pd.read_csv(data_file)\n",
        "df"
      ],
      "execution_count": 6,
      "outputs": [
        {
          "output_type": "execute_result",
          "data": {
            "text/html": [
              "<div>\n",
              "<style scoped>\n",
              "    .dataframe tbody tr th:only-of-type {\n",
              "        vertical-align: middle;\n",
              "    }\n",
              "\n",
              "    .dataframe tbody tr th {\n",
              "        vertical-align: top;\n",
              "    }\n",
              "\n",
              "    .dataframe thead th {\n",
              "        text-align: right;\n",
              "    }\n",
              "</style>\n",
              "<table border=\"1\" class=\"dataframe\">\n",
              "  <thead>\n",
              "    <tr style=\"text-align: right;\">\n",
              "      <th></th>\n",
              "      <th>Date</th>\n",
              "      <th>Symbol</th>\n",
              "      <th>Series</th>\n",
              "      <th>Prev Close</th>\n",
              "      <th>Open</th>\n",
              "      <th>High</th>\n",
              "      <th>Low</th>\n",
              "      <th>Last</th>\n",
              "      <th>Close</th>\n",
              "      <th>VWAP</th>\n",
              "      <th>Volume</th>\n",
              "      <th>Turnover</th>\n",
              "      <th>Trades</th>\n",
              "      <th>Deliverable Volume</th>\n",
              "      <th>%Deliverble</th>\n",
              "    </tr>\n",
              "  </thead>\n",
              "  <tbody>\n",
              "    <tr>\n",
              "      <th>0</th>\n",
              "      <td>2008-05-26</td>\n",
              "      <td>BAJAJ-AUTO</td>\n",
              "      <td>EQ</td>\n",
              "      <td>2101.05</td>\n",
              "      <td>898.00</td>\n",
              "      <td>898.00</td>\n",
              "      <td>551.35</td>\n",
              "      <td>600.25</td>\n",
              "      <td>604.75</td>\n",
              "      <td>624.61</td>\n",
              "      <td>3972485</td>\n",
              "      <td>2.481245e+14</td>\n",
              "      <td>NaN</td>\n",
              "      <td>1202933</td>\n",
              "      <td>0.3028</td>\n",
              "    </tr>\n",
              "    <tr>\n",
              "      <th>1</th>\n",
              "      <td>2008-05-27</td>\n",
              "      <td>BAJAJ-AUTO</td>\n",
              "      <td>EQ</td>\n",
              "      <td>604.75</td>\n",
              "      <td>624.70</td>\n",
              "      <td>639.00</td>\n",
              "      <td>580.30</td>\n",
              "      <td>595.50</td>\n",
              "      <td>593.15</td>\n",
              "      <td>606.43</td>\n",
              "      <td>1751063</td>\n",
              "      <td>1.061901e+14</td>\n",
              "      <td>NaN</td>\n",
              "      <td>369389</td>\n",
              "      <td>0.2110</td>\n",
              "    </tr>\n",
              "    <tr>\n",
              "      <th>2</th>\n",
              "      <td>2008-05-28</td>\n",
              "      <td>BAJAJ-AUTO</td>\n",
              "      <td>EQ</td>\n",
              "      <td>593.15</td>\n",
              "      <td>561.65</td>\n",
              "      <td>621.90</td>\n",
              "      <td>561.65</td>\n",
              "      <td>605.10</td>\n",
              "      <td>608.15</td>\n",
              "      <td>608.75</td>\n",
              "      <td>1652355</td>\n",
              "      <td>1.005877e+14</td>\n",
              "      <td>NaN</td>\n",
              "      <td>898602</td>\n",
              "      <td>0.5438</td>\n",
              "    </tr>\n",
              "    <tr>\n",
              "      <th>3</th>\n",
              "      <td>2008-05-29</td>\n",
              "      <td>BAJAJ-AUTO</td>\n",
              "      <td>EQ</td>\n",
              "      <td>608.15</td>\n",
              "      <td>619.40</td>\n",
              "      <td>619.40</td>\n",
              "      <td>576.00</td>\n",
              "      <td>600.00</td>\n",
              "      <td>599.45</td>\n",
              "      <td>600.98</td>\n",
              "      <td>669269</td>\n",
              "      <td>4.022165e+13</td>\n",
              "      <td>NaN</td>\n",
              "      <td>449951</td>\n",
              "      <td>0.6723</td>\n",
              "    </tr>\n",
              "    <tr>\n",
              "      <th>4</th>\n",
              "      <td>2008-05-30</td>\n",
              "      <td>BAJAJ-AUTO</td>\n",
              "      <td>EQ</td>\n",
              "      <td>599.45</td>\n",
              "      <td>605.40</td>\n",
              "      <td>607.00</td>\n",
              "      <td>538.00</td>\n",
              "      <td>576.25</td>\n",
              "      <td>571.70</td>\n",
              "      <td>565.55</td>\n",
              "      <td>1262117</td>\n",
              "      <td>7.137937e+13</td>\n",
              "      <td>NaN</td>\n",
              "      <td>936432</td>\n",
              "      <td>0.7420</td>\n",
              "    </tr>\n",
              "    <tr>\n",
              "      <th>...</th>\n",
              "      <td>...</td>\n",
              "      <td>...</td>\n",
              "      <td>...</td>\n",
              "      <td>...</td>\n",
              "      <td>...</td>\n",
              "      <td>...</td>\n",
              "      <td>...</td>\n",
              "      <td>...</td>\n",
              "      <td>...</td>\n",
              "      <td>...</td>\n",
              "      <td>...</td>\n",
              "      <td>...</td>\n",
              "      <td>...</td>\n",
              "      <td>...</td>\n",
              "      <td>...</td>\n",
              "    </tr>\n",
              "    <tr>\n",
              "      <th>3197</th>\n",
              "      <td>2021-04-26</td>\n",
              "      <td>BAJAJ-AUTO</td>\n",
              "      <td>EQ</td>\n",
              "      <td>3672.50</td>\n",
              "      <td>3682.20</td>\n",
              "      <td>3749.00</td>\n",
              "      <td>3676.00</td>\n",
              "      <td>3739.00</td>\n",
              "      <td>3738.85</td>\n",
              "      <td>3719.79</td>\n",
              "      <td>480016</td>\n",
              "      <td>1.785560e+14</td>\n",
              "      <td>36835.0</td>\n",
              "      <td>155563</td>\n",
              "      <td>0.3241</td>\n",
              "    </tr>\n",
              "    <tr>\n",
              "      <th>3198</th>\n",
              "      <td>2021-04-27</td>\n",
              "      <td>BAJAJ-AUTO</td>\n",
              "      <td>EQ</td>\n",
              "      <td>3738.85</td>\n",
              "      <td>3738.85</td>\n",
              "      <td>3798.00</td>\n",
              "      <td>3727.20</td>\n",
              "      <td>3795.00</td>\n",
              "      <td>3785.50</td>\n",
              "      <td>3764.89</td>\n",
              "      <td>518487</td>\n",
              "      <td>1.952048e+14</td>\n",
              "      <td>47765.0</td>\n",
              "      <td>140987</td>\n",
              "      <td>0.2719</td>\n",
              "    </tr>\n",
              "    <tr>\n",
              "      <th>3199</th>\n",
              "      <td>2021-04-28</td>\n",
              "      <td>BAJAJ-AUTO</td>\n",
              "      <td>EQ</td>\n",
              "      <td>3785.50</td>\n",
              "      <td>3810.05</td>\n",
              "      <td>3954.00</td>\n",
              "      <td>3807.00</td>\n",
              "      <td>3887.15</td>\n",
              "      <td>3889.75</td>\n",
              "      <td>3909.99</td>\n",
              "      <td>1252958</td>\n",
              "      <td>4.899048e+14</td>\n",
              "      <td>78857.0</td>\n",
              "      <td>190766</td>\n",
              "      <td>0.1523</td>\n",
              "    </tr>\n",
              "    <tr>\n",
              "      <th>3200</th>\n",
              "      <td>2021-04-29</td>\n",
              "      <td>BAJAJ-AUTO</td>\n",
              "      <td>EQ</td>\n",
              "      <td>3889.75</td>\n",
              "      <td>3943.00</td>\n",
              "      <td>3954.30</td>\n",
              "      <td>3807.10</td>\n",
              "      <td>3818.95</td>\n",
              "      <td>3836.45</td>\n",
              "      <td>3880.32</td>\n",
              "      <td>1335444</td>\n",
              "      <td>5.181950e+14</td>\n",
              "      <td>92106.0</td>\n",
              "      <td>168500</td>\n",
              "      <td>0.1262</td>\n",
              "    </tr>\n",
              "    <tr>\n",
              "      <th>3201</th>\n",
              "      <td>2021-04-30</td>\n",
              "      <td>BAJAJ-AUTO</td>\n",
              "      <td>EQ</td>\n",
              "      <td>3836.45</td>\n",
              "      <td>3805.00</td>\n",
              "      <td>3966.35</td>\n",
              "      <td>3800.00</td>\n",
              "      <td>3827.00</td>\n",
              "      <td>3833.75</td>\n",
              "      <td>3869.17</td>\n",
              "      <td>1340273</td>\n",
              "      <td>5.185744e+14</td>\n",
              "      <td>79430.0</td>\n",
              "      <td>229768</td>\n",
              "      <td>0.1714</td>\n",
              "    </tr>\n",
              "  </tbody>\n",
              "</table>\n",
              "<p>3202 rows × 15 columns</p>\n",
              "</div>"
            ],
            "text/plain": [
              "            Date      Symbol Series  ...   Trades  Deliverable Volume  %Deliverble\n",
              "0     2008-05-26  BAJAJ-AUTO     EQ  ...      NaN             1202933       0.3028\n",
              "1     2008-05-27  BAJAJ-AUTO     EQ  ...      NaN              369389       0.2110\n",
              "2     2008-05-28  BAJAJ-AUTO     EQ  ...      NaN              898602       0.5438\n",
              "3     2008-05-29  BAJAJ-AUTO     EQ  ...      NaN              449951       0.6723\n",
              "4     2008-05-30  BAJAJ-AUTO     EQ  ...      NaN              936432       0.7420\n",
              "...          ...         ...    ...  ...      ...                 ...          ...\n",
              "3197  2021-04-26  BAJAJ-AUTO     EQ  ...  36835.0              155563       0.3241\n",
              "3198  2021-04-27  BAJAJ-AUTO     EQ  ...  47765.0              140987       0.2719\n",
              "3199  2021-04-28  BAJAJ-AUTO     EQ  ...  78857.0              190766       0.1523\n",
              "3200  2021-04-29  BAJAJ-AUTO     EQ  ...  92106.0              168500       0.1262\n",
              "3201  2021-04-30  BAJAJ-AUTO     EQ  ...  79430.0              229768       0.1714\n",
              "\n",
              "[3202 rows x 15 columns]"
            ]
          },
          "metadata": {
            "tags": []
          },
          "execution_count": 6
        }
      ]
    },
    {
      "cell_type": "code",
      "metadata": {
        "id": "ENjHZ90ZKXgf",
        "trusted": true,
        "colab": {
          "base_uri": "https://localhost:8080/"
        },
        "outputId": "cf9c6fbc-967d-458a-ee11-7d8b65d5948b"
      },
      "source": [
        "#columns on which we are working in\n",
        "df.columns"
      ],
      "execution_count": 7,
      "outputs": [
        {
          "output_type": "execute_result",
          "data": {
            "text/plain": [
              "Index(['Date', 'Symbol', 'Series', 'Prev Close', 'Open', 'High', 'Low', 'Last',\n",
              "       'Close', 'VWAP', 'Volume', 'Turnover', 'Trades', 'Deliverable Volume',\n",
              "       '%Deliverble'],\n",
              "      dtype='object')"
            ]
          },
          "metadata": {
            "tags": []
          },
          "execution_count": 7
        }
      ]
    },
    {
      "cell_type": "code",
      "metadata": {
        "id": "kiTV2TByK3xz",
        "trusted": true,
        "colab": {
          "base_uri": "https://localhost:8080/"
        },
        "outputId": "0f86f4e2-2d20-4d1c-df80-df679630db9b"
      },
      "source": [
        "#some more information about data\n",
        "df.info()"
      ],
      "execution_count": 8,
      "outputs": [
        {
          "output_type": "stream",
          "text": [
            "<class 'pandas.core.frame.DataFrame'>\n",
            "RangeIndex: 3202 entries, 0 to 3201\n",
            "Data columns (total 15 columns):\n",
            " #   Column              Non-Null Count  Dtype  \n",
            "---  ------              --------------  -----  \n",
            " 0   Date                3202 non-null   object \n",
            " 1   Symbol              3202 non-null   object \n",
            " 2   Series              3202 non-null   object \n",
            " 3   Prev Close          3202 non-null   float64\n",
            " 4   Open                3202 non-null   float64\n",
            " 5   High                3202 non-null   float64\n",
            " 6   Low                 3202 non-null   float64\n",
            " 7   Last                3202 non-null   float64\n",
            " 8   Close               3202 non-null   float64\n",
            " 9   VWAP                3202 non-null   float64\n",
            " 10  Volume              3202 non-null   int64  \n",
            " 11  Turnover            3202 non-null   float64\n",
            " 12  Trades              2456 non-null   float64\n",
            " 13  Deliverable Volume  3202 non-null   int64  \n",
            " 14  %Deliverble         3202 non-null   float64\n",
            "dtypes: float64(10), int64(2), object(3)\n",
            "memory usage: 375.4+ KB\n"
          ],
          "name": "stdout"
        }
      ]
    },
    {
      "cell_type": "code",
      "metadata": {
        "id": "lJgt0fSKLG0N",
        "trusted": true,
        "colab": {
          "base_uri": "https://localhost:8080/",
          "height": 288
        },
        "outputId": "1f5d9899-85df-4b9d-e8e6-3d79ca477a96"
      },
      "source": [
        "#through this command we can see the mean, max, min and other details\n",
        "df.describe()"
      ],
      "execution_count": 9,
      "outputs": [
        {
          "output_type": "execute_result",
          "data": {
            "text/html": [
              "<div>\n",
              "<style scoped>\n",
              "    .dataframe tbody tr th:only-of-type {\n",
              "        vertical-align: middle;\n",
              "    }\n",
              "\n",
              "    .dataframe tbody tr th {\n",
              "        vertical-align: top;\n",
              "    }\n",
              "\n",
              "    .dataframe thead th {\n",
              "        text-align: right;\n",
              "    }\n",
              "</style>\n",
              "<table border=\"1\" class=\"dataframe\">\n",
              "  <thead>\n",
              "    <tr style=\"text-align: right;\">\n",
              "      <th></th>\n",
              "      <th>Prev Close</th>\n",
              "      <th>Open</th>\n",
              "      <th>High</th>\n",
              "      <th>Low</th>\n",
              "      <th>Last</th>\n",
              "      <th>Close</th>\n",
              "      <th>VWAP</th>\n",
              "      <th>Volume</th>\n",
              "      <th>Turnover</th>\n",
              "      <th>Trades</th>\n",
              "      <th>Deliverable Volume</th>\n",
              "      <th>%Deliverble</th>\n",
              "    </tr>\n",
              "  </thead>\n",
              "  <tbody>\n",
              "    <tr>\n",
              "      <th>count</th>\n",
              "      <td>3202.000000</td>\n",
              "      <td>3202.000000</td>\n",
              "      <td>3202.000000</td>\n",
              "      <td>3202.000000</td>\n",
              "      <td>3202.000000</td>\n",
              "      <td>3202.000000</td>\n",
              "      <td>3202.000000</td>\n",
              "      <td>3.202000e+03</td>\n",
              "      <td>3.202000e+03</td>\n",
              "      <td>2456.000000</td>\n",
              "      <td>3.202000e+03</td>\n",
              "      <td>3202.000000</td>\n",
              "    </tr>\n",
              "    <tr>\n",
              "      <th>mean</th>\n",
              "      <td>2189.871065</td>\n",
              "      <td>2191.537883</td>\n",
              "      <td>2219.934510</td>\n",
              "      <td>2162.215209</td>\n",
              "      <td>2190.307917</td>\n",
              "      <td>2190.412196</td>\n",
              "      <td>2191.294288</td>\n",
              "      <td>4.114639e+05</td>\n",
              "      <td>9.644024e+13</td>\n",
              "      <td>27487.876629</td>\n",
              "      <td>1.944837e+05</td>\n",
              "      <td>0.509401</td>\n",
              "    </tr>\n",
              "    <tr>\n",
              "      <th>std</th>\n",
              "      <td>774.552766</td>\n",
              "      <td>776.148452</td>\n",
              "      <td>781.289529</td>\n",
              "      <td>770.192017</td>\n",
              "      <td>775.065896</td>\n",
              "      <td>775.095766</td>\n",
              "      <td>775.657353</td>\n",
              "      <td>3.911067e+05</td>\n",
              "      <td>1.174628e+14</td>\n",
              "      <td>19453.983219</td>\n",
              "      <td>1.707922e+05</td>\n",
              "      <td>0.172869</td>\n",
              "    </tr>\n",
              "    <tr>\n",
              "      <th>min</th>\n",
              "      <td>301.900000</td>\n",
              "      <td>262.000000</td>\n",
              "      <td>307.050000</td>\n",
              "      <td>262.000000</td>\n",
              "      <td>300.000000</td>\n",
              "      <td>301.900000</td>\n",
              "      <td>301.980000</td>\n",
              "      <td>4.966000e+03</td>\n",
              "      <td>2.497018e+11</td>\n",
              "      <td>451.000000</td>\n",
              "      <td>1.290000e+03</td>\n",
              "      <td>0.073000</td>\n",
              "    </tr>\n",
              "    <tr>\n",
              "      <th>25%</th>\n",
              "      <td>1661.925000</td>\n",
              "      <td>1663.250000</td>\n",
              "      <td>1693.775000</td>\n",
              "      <td>1636.362500</td>\n",
              "      <td>1660.512500</td>\n",
              "      <td>1661.925000</td>\n",
              "      <td>1664.845000</td>\n",
              "      <td>2.054658e+05</td>\n",
              "      <td>4.228246e+13</td>\n",
              "      <td>16041.250000</td>\n",
              "      <td>9.553850e+04</td>\n",
              "      <td>0.391225</td>\n",
              "    </tr>\n",
              "    <tr>\n",
              "      <th>50%</th>\n",
              "      <td>2269.950000</td>\n",
              "      <td>2270.000000</td>\n",
              "      <td>2305.575000</td>\n",
              "      <td>2240.250000</td>\n",
              "      <td>2270.750000</td>\n",
              "      <td>2270.225000</td>\n",
              "      <td>2269.900000</td>\n",
              "      <td>3.125365e+05</td>\n",
              "      <td>6.885321e+13</td>\n",
              "      <td>22822.000000</td>\n",
              "      <td>1.537390e+05</td>\n",
              "      <td>0.520000</td>\n",
              "    </tr>\n",
              "    <tr>\n",
              "      <th>75%</th>\n",
              "      <td>2808.437500</td>\n",
              "      <td>2810.000000</td>\n",
              "      <td>2834.950000</td>\n",
              "      <td>2778.362500</td>\n",
              "      <td>2808.975000</td>\n",
              "      <td>2808.487500</td>\n",
              "      <td>2808.565000</td>\n",
              "      <td>5.000315e+05</td>\n",
              "      <td>1.107763e+14</td>\n",
              "      <td>32952.250000</td>\n",
              "      <td>2.456250e+05</td>\n",
              "      <td>0.626675</td>\n",
              "    </tr>\n",
              "    <tr>\n",
              "      <th>max</th>\n",
              "      <td>4237.450000</td>\n",
              "      <td>4260.000000</td>\n",
              "      <td>4361.400000</td>\n",
              "      <td>4200.000000</td>\n",
              "      <td>4236.000000</td>\n",
              "      <td>4237.450000</td>\n",
              "      <td>4260.500000</td>\n",
              "      <td>8.537143e+06</td>\n",
              "      <td>3.436565e+15</td>\n",
              "      <td>398043.000000</td>\n",
              "      <td>4.154492e+06</td>\n",
              "      <td>1.000000</td>\n",
              "    </tr>\n",
              "  </tbody>\n",
              "</table>\n",
              "</div>"
            ],
            "text/plain": [
              "        Prev Close         Open  ...  Deliverable Volume  %Deliverble\n",
              "count  3202.000000  3202.000000  ...        3.202000e+03  3202.000000\n",
              "mean   2189.871065  2191.537883  ...        1.944837e+05     0.509401\n",
              "std     774.552766   776.148452  ...        1.707922e+05     0.172869\n",
              "min     301.900000   262.000000  ...        1.290000e+03     0.073000\n",
              "25%    1661.925000  1663.250000  ...        9.553850e+04     0.391225\n",
              "50%    2269.950000  2270.000000  ...        1.537390e+05     0.520000\n",
              "75%    2808.437500  2810.000000  ...        2.456250e+05     0.626675\n",
              "max    4237.450000  4260.000000  ...        4.154492e+06     1.000000\n",
              "\n",
              "[8 rows x 12 columns]"
            ]
          },
          "metadata": {
            "tags": []
          },
          "execution_count": 9
        }
      ]
    },
    {
      "cell_type": "markdown",
      "metadata": {
        "id": "grArSiv1L57v"
      },
      "source": [
        ""
      ]
    },
    {
      "cell_type": "code",
      "metadata": {
        "id": "6FVCy4WOLcjg",
        "trusted": true,
        "colab": {
          "base_uri": "https://localhost:8080/"
        },
        "outputId": "f0a393a8-2ee4-49b2-82fe-03782e41b5a0"
      },
      "source": [
        "numerical_datatype=['int16','int32','int64','float16','float32','float64']\n",
        "numeric_df = df.select_dtypes(include=numerical_datatype)\n",
        "len(numeric_df.columns)"
      ],
      "execution_count": 10,
      "outputs": [
        {
          "output_type": "execute_result",
          "data": {
            "text/plain": [
              "12"
            ]
          },
          "metadata": {
            "tags": []
          },
          "execution_count": 10
        }
      ]
    },
    {
      "cell_type": "markdown",
      "metadata": {
        "id": "lNJTU3IEN0kZ"
      },
      "source": [
        "Percentage of missing values in data\n"
      ]
    },
    {
      "cell_type": "code",
      "metadata": {
        "id": "8dGBpnzzM6pJ",
        "trusted": true,
        "colab": {
          "base_uri": "https://localhost:8080/"
        },
        "outputId": "b46ec819-e829-49f5-a63f-9c18233b74b5"
      },
      "source": [
        "#searching for missing value in percentage\n",
        "missing_percentage=df.isnull().sum().sort_values(ascending=False)/len(df)\n",
        "missing_percentage"
      ],
      "execution_count": 11,
      "outputs": [
        {
          "output_type": "execute_result",
          "data": {
            "text/plain": [
              "Trades                0.232979\n",
              "%Deliverble           0.000000\n",
              "Deliverable Volume    0.000000\n",
              "Turnover              0.000000\n",
              "Volume                0.000000\n",
              "VWAP                  0.000000\n",
              "Close                 0.000000\n",
              "Last                  0.000000\n",
              "Low                   0.000000\n",
              "High                  0.000000\n",
              "Open                  0.000000\n",
              "Prev Close            0.000000\n",
              "Series                0.000000\n",
              "Symbol                0.000000\n",
              "Date                  0.000000\n",
              "dtype: float64"
            ]
          },
          "metadata": {
            "tags": []
          },
          "execution_count": 11
        }
      ]
    },
    {
      "cell_type": "code",
      "metadata": {
        "id": "qxxyVMfoNJXd",
        "trusted": true,
        "colab": {
          "base_uri": "https://localhost:8080/",
          "height": 371
        },
        "outputId": "0f713f4a-e28a-4448-cc9c-74702b45889d"
      },
      "source": [
        "#missing value percentage using barchart\n",
        "missing_percentage.plot(kind='bar')"
      ],
      "execution_count": 12,
      "outputs": [
        {
          "output_type": "execute_result",
          "data": {
            "text/plain": [
              "<matplotlib.axes._subplots.AxesSubplot at 0x7f1a3f4e1850>"
            ]
          },
          "metadata": {
            "tags": []
          },
          "execution_count": 12
        },
        {
          "output_type": "display_data",
          "data": {
            "image/png": "[encoded data removed]",
            "text/plain": [
              "<Figure size 432x288 with 1 Axes>"
            ]
          },
          "metadata": {
            "tags": [],
            "needs_background": "light"
          }
        }
      ]
    },
    {
      "cell_type": "markdown",
      "metadata": {
        "id": "fDKDvEOrPBor"
      },
      "source": [
        "EXPLORATRY ANALYSIS AND VISUALIZATION\n",
        "\n",
        "Columns which are going to be analyzed:\n",
        "1. Volume\n",
        "2. Trades\n",
        "3. Turnover\n",
        "4. Date for analysing over year analysis\n",
        "5. High and Low\n"
      ]
    },
    {
      "cell_type": "code",
      "metadata": {
        "id": "Pu7SSn8CO7Cy",
        "trusted": true,
        "colab": {
          "base_uri": "https://localhost:8080/"
        },
        "outputId": "4d2f922f-edf7-47e4-9755-3c69ddbeaea9"
      },
      "source": [
        "df.columns"
      ],
      "execution_count": 14,
      "outputs": [
        {
          "output_type": "execute_result",
          "data": {
            "text/plain": [
              "Index(['Date', 'Symbol', 'Series', 'Prev Close', 'Open', 'High', 'Low', 'Last',\n",
              "       'Close', 'VWAP', 'Volume', 'Turnover', 'Trades', 'Deliverable Volume',\n",
              "       '%Deliverble'],\n",
              "      dtype='object')"
            ]
          },
          "metadata": {
            "tags": []
          },
          "execution_count": 14
        }
      ]
    },
    {
      "cell_type": "code",
      "metadata": {
        "id": "yY6XnGfwPnrm",
        "trusted": true,
        "colab": {
          "base_uri": "https://localhost:8080/"
        },
        "outputId": "c3613d12-61df-4c08-f4db-ed95927c712e"
      },
      "source": [
        "a=df.Series.unique()\n",
        "len(a)"
      ],
      "execution_count": 15,
      "outputs": [
        {
          "output_type": "execute_result",
          "data": {
            "text/plain": [
              "1"
            ]
          },
          "metadata": {
            "tags": []
          },
          "execution_count": 15
        }
      ]
    },
    {
      "cell_type": "markdown",
      "metadata": {
        "id": "MqtpIpchm_tV"
      },
      "source": [
        "#Volume"
      ]
    },
    {
      "cell_type": "code",
      "metadata": {
        "id": "YnoXIfxPcpij",
        "trusted": true
      },
      "source": [
        "#importing seaborn libaray for better visualization of data\n",
        "import seaborn as sns\n",
        "sns.set_style(\"darkgrid\")"
      ],
      "execution_count": 16,
      "outputs": []
    },
    {
      "cell_type": "code",
      "metadata": {
        "id": "Exvo1OrxiSux",
        "trusted": true,
        "colab": {
          "base_uri": "https://localhost:8080/",
          "height": 301
        },
        "outputId": "29ce5ba6-eb9e-4535-9b37-761e5685dff1"
      },
      "source": [
        "#volume column histogram represents most of the volume of comapny is between 10^5 to 10^6\n",
        "sns.histplot(df.Volume, log_scale=True)"
      ],
      "execution_count": 18,
      "outputs": [
        {
          "output_type": "execute_result",
          "data": {
            "text/plain": [
              "<matplotlib.axes._subplots.AxesSubplot at 0x7f1a302c8ed0>"
            ]
          },
          "metadata": {
            "tags": []
          },
          "execution_count": 18
        },
        {
          "output_type": "display_data",
          "data": {
            "image/png": "[encoded data removed]",
            "text/plain": [
              "<Figure size 432x288 with 1 Axes>"
            ]
          },
          "metadata": {
            "tags": []
          }
        }
      ]
    },
    {
      "cell_type": "code",
      "metadata": {
        "id": "7Fk91su5kjS3",
        "trusted": true,
        "colab": {
          "base_uri": "https://localhost:8080/"
        },
        "outputId": "e9f3a3a7-9ce7-488b-ac01-f5bc9f612268"
      },
      "source": [
        "volumes=df.Volume.value_counts()\n",
        "len(volumes)"
      ],
      "execution_count": 19,
      "outputs": [
        {
          "output_type": "execute_result",
          "data": {
            "text/plain": [
              "3196"
            ]
          },
          "metadata": {
            "tags": []
          },
          "execution_count": 19
        }
      ]
    },
    {
      "cell_type": "code",
      "metadata": {
        "id": "XCFSEET4igIG",
        "trusted": true
      },
      "source": [
        "#checking for higher volumes and lower volumes that company got\n",
        "high_volume=df.Volume[df.Volume>=500000]\n",
        "low_volume=df.Volume[df.Volume<200000]"
      ],
      "execution_count": 44,
      "outputs": []
    },
    {
      "cell_type": "code",
      "metadata": {
        "id": "mZ_38MwkjmBD",
        "trusted": true,
        "colab": {
          "base_uri": "https://localhost:8080/"
        },
        "outputId": "3606fb10-2ef5-408c-c4dc-e73968199837"
      },
      "source": [
        "len(high_volume)/len(volumes)"
      ],
      "execution_count": 45,
      "outputs": [
        {
          "output_type": "execute_result",
          "data": {
            "text/plain": [
              "0.25062578222778475"
            ]
          },
          "metadata": {
            "tags": []
          },
          "execution_count": 45
        }
      ]
    },
    {
      "cell_type": "code",
      "metadata": {
        "id": "COASPF1Bjn0b",
        "trusted": true,
        "colab": {
          "base_uri": "https://localhost:8080/"
        },
        "outputId": "0ca033d1-43c4-4984-8396-95be711c2736"
      },
      "source": [
        "len(low_volume)/len(volumes)"
      ],
      "execution_count": 46,
      "outputs": [
        {
          "output_type": "execute_result",
          "data": {
            "text/plain": [
              "0.23842302878598248"
            ]
          },
          "metadata": {
            "tags": []
          },
          "execution_count": 46
        }
      ]
    },
    {
      "cell_type": "markdown",
      "metadata": {
        "id": "IxIWZslxnE3c"
      },
      "source": [
        "#Trades"
      ]
    },
    {
      "cell_type": "code",
      "metadata": {
        "id": "FVvx9p1inEif",
        "trusted": true,
        "colab": {
          "base_uri": "https://localhost:8080/"
        },
        "outputId": "82ce122d-fbf9-47f2-d3ad-78aa9ed0e8ab"
      },
      "source": [
        "df.Trades.fillna(0).astype(int)"
      ],
      "execution_count": 47,
      "outputs": [
        {
          "output_type": "execute_result",
          "data": {
            "text/plain": [
              "0           0\n",
              "1           0\n",
              "2           0\n",
              "3           0\n",
              "4           0\n",
              "        ...  \n",
              "3197    36835\n",
              "3198    47765\n",
              "3199    78857\n",
              "3200    92106\n",
              "3201    79430\n",
              "Name: Trades, Length: 3202, dtype: int64"
            ]
          },
          "metadata": {
            "tags": []
          },
          "execution_count": 47
        }
      ]
    },
    {
      "cell_type": "code",
      "metadata": {
        "id": "6TUTmKyOkWmm",
        "trusted": true,
        "colab": {
          "base_uri": "https://localhost:8080/",
          "height": 301
        },
        "outputId": "056e405c-bc9a-45f6-feca-7a7e27d04800"
      },
      "source": [
        "#Trades column histogram represents most of the trades of comapny is between 10^4 to 10^6\n",
        "sns.histplot(df.Trades, log_scale=True)\n"
      ],
      "execution_count": 48,
      "outputs": [
        {
          "output_type": "execute_result",
          "data": {
            "text/plain": [
              "<matplotlib.axes._subplots.AxesSubplot at 0x7f1a3012f110>"
            ]
          },
          "metadata": {
            "tags": []
          },
          "execution_count": 48
        },
        {
          "output_type": "display_data",
          "data": {
            "image/png": "[encoded data removed]",
            "text/plain": [
              "<Figure size 432x288 with 1 Axes>"
            ]
          },
          "metadata": {
            "tags": []
          }
        }
      ]
    },
    {
      "cell_type": "code",
      "metadata": {
        "id": "WCqiN6q-kWo-",
        "trusted": true,
        "colab": {
          "base_uri": "https://localhost:8080/"
        },
        "outputId": "eba44e3b-e0a3-4391-f155-624293749289"
      },
      "source": [
        "Trades_count=df.Trades.value_counts()\n",
        "len(Trades_count)"
      ],
      "execution_count": 49,
      "outputs": [
        {
          "output_type": "execute_result",
          "data": {
            "text/plain": [
              "2397"
            ]
          },
          "metadata": {
            "tags": []
          },
          "execution_count": 49
        }
      ]
    },
    {
      "cell_type": "code",
      "metadata": {
        "id": "E9sWkQYQkWrH",
        "trusted": true
      },
      "source": [
        "high_trades=df.Trades[df.Trades>=50000]\n",
        "low_trades=df.Trades[df.Trades<5000]"
      ],
      "execution_count": 65,
      "outputs": []
    },
    {
      "cell_type": "code",
      "metadata": {
        "id": "wikbSoUpuWfq",
        "trusted": true,
        "colab": {
          "base_uri": "https://localhost:8080/"
        },
        "outputId": "01c3af00-0dab-484b-9f25-33297b501a7b"
      },
      "source": [
        "len(high_trades)/len(Trades_count)"
      ],
      "execution_count": 66,
      "outputs": [
        {
          "output_type": "execute_result",
          "data": {
            "text/plain": [
              "0.0851063829787234"
            ]
          },
          "metadata": {
            "tags": []
          },
          "execution_count": 66
        }
      ]
    },
    {
      "cell_type": "code",
      "metadata": {
        "id": "uRsj1lnYuWcd",
        "trusted": true,
        "colab": {
          "base_uri": "https://localhost:8080/"
        },
        "outputId": "c4d7f699-59a6-4eb4-d817-7ec9ac7afd30"
      },
      "source": [
        "len(low_trades)/len(Trades_count)"
      ],
      "execution_count": 67,
      "outputs": [
        {
          "output_type": "execute_result",
          "data": {
            "text/plain": [
              "0.007509386733416771"
            ]
          },
          "metadata": {
            "tags": []
          },
          "execution_count": 67
        }
      ]
    },
    {
      "cell_type": "markdown",
      "metadata": {
        "id": "1NcwoA3NuRUD"
      },
      "source": [
        "#TURNOVER"
      ]
    },
    {
      "cell_type": "code",
      "metadata": {
        "id": "SAuja0jCuPnF",
        "trusted": true,
        "colab": {
          "base_uri": "https://localhost:8080/",
          "height": 303
        },
        "outputId": "d3b27df6-d356-4066-daf2-cb839b808d83"
      },
      "source": [
        "#visualization of turnover of the company\n",
        "sns.histplot(df.Turnover, log_scale=True)"
      ],
      "execution_count": 68,
      "outputs": [
        {
          "output_type": "execute_result",
          "data": {
            "text/plain": [
              "<matplotlib.axes._subplots.AxesSubplot at 0x7f1a2fed5250>"
            ]
          },
          "metadata": {
            "tags": []
          },
          "execution_count": 68
        },
        {
          "output_type": "display_data",
          "data": {
            "image/png": "[encoded data removed]",
            "text/plain": [
              "<Figure size 432x288 with 1 Axes>"
            ]
          },
          "metadata": {
            "tags": []
          }
        }
      ]
    },
    {
      "cell_type": "code",
      "metadata": {
        "id": "HlEUusKzuPjz",
        "trusted": true,
        "colab": {
          "base_uri": "https://localhost:8080/"
        },
        "outputId": "a9e39048-4903-4e6c-c8b5-2252472bbccd"
      },
      "source": [
        "highest_turnover=df.Trades.max()\n",
        "highest_turnover"
      ],
      "execution_count": 69,
      "outputs": [
        {
          "output_type": "execute_result",
          "data": {
            "text/plain": [
              "398043.0"
            ]
          },
          "metadata": {
            "tags": []
          },
          "execution_count": 69
        }
      ]
    },
    {
      "cell_type": "code",
      "metadata": {
        "id": "MFs4BsLKuPhz",
        "trusted": true,
        "colab": {
          "base_uri": "https://localhost:8080/"
        },
        "outputId": "74d8d2fd-a8c0-4327-d572-6fee2105ee98"
      },
      "source": [
        "lowest_turnover=df.Trades.min()\n",
        "lowest_turnover"
      ],
      "execution_count": 70,
      "outputs": [
        {
          "output_type": "execute_result",
          "data": {
            "text/plain": [
              "451.0"
            ]
          },
          "metadata": {
            "tags": []
          },
          "execution_count": 70
        }
      ]
    },
    {
      "cell_type": "markdown",
      "metadata": {
        "id": "RJN1Mb4ZvjOx"
      },
      "source": [
        "#DATE"
      ]
    },
    {
      "cell_type": "code",
      "metadata": {
        "id": "6EA9xaaI1J21",
        "trusted": true
      },
      "source": [
        "df['Date'] = pd.to_datetime(df['Date'])\n",
        "df['Month'] = df['Date'].dt.month\n",
        "df['Year'] = df['Date'].dt.year\n",
        "df['Weekdays'] = df['Date'].dt.dayofweek\n",
        "df['Months'] = df['Date'].dt.strftime('%b')"
      ],
      "execution_count": 71,
      "outputs": []
    },
    {
      "cell_type": "code",
      "metadata": {
        "id": "3xmw9fwVkWs2",
        "trusted": true
      },
      "source": [
        "#sns.histplot(df.Months, bins=12, kde=False)"
      ],
      "execution_count": 72,
      "outputs": []
    },
    {
      "cell_type": "code",
      "metadata": {
        "id": "ihR_wuWBtk_w",
        "trusted": true,
        "colab": {
          "base_uri": "https://localhost:8080/",
          "height": 365
        },
        "outputId": "baadc8a3-9d33-42df-bde2-2b79091e29ff"
      },
      "source": [
        "#volumes vs years chart\n",
        "sns.barplot(df.Year,df.Volume)"
      ],
      "execution_count": 73,
      "outputs": [
        {
          "output_type": "stream",
          "text": [
            "/usr/local/lib/python3.7/dist-packages/seaborn/_decorators.py:43: FutureWarning: Pass the following variables as keyword args: x, y. From version 0.12, the only valid positional argument will be `data`, and passing other arguments without an explicit keyword will result in an error or misinterpretation.\n",
            "  FutureWarning\n"
          ],
          "name": "stderr"
        },
        {
          "output_type": "execute_result",
          "data": {
            "text/plain": [
              "<matplotlib.axes._subplots.AxesSubplot at 0x7f1a3027c950>"
            ]
          },
          "metadata": {
            "tags": []
          },
          "execution_count": 73
        },
        {
          "output_type": "display_data",
          "data": {
            "image/png": "[encoded data removed]",
            "text/plain": [
              "<Figure size 432x288 with 1 Axes>"
            ]
          },
          "metadata": {
            "tags": []
          }
        }
      ]
    },
    {
      "cell_type": "code",
      "metadata": {
        "id": "XTt_Vr90sxbI",
        "trusted": true,
        "colab": {
          "base_uri": "https://localhost:8080/",
          "height": 354
        },
        "outputId": "009c599a-fd9c-4ec5-90b3-1062bceae98f"
      },
      "source": [
        "#volumes vs months chart\n",
        "sns.barplot(df.Months,df.Volume)"
      ],
      "execution_count": 74,
      "outputs": [
        {
          "output_type": "stream",
          "text": [
            "/usr/local/lib/python3.7/dist-packages/seaborn/_decorators.py:43: FutureWarning: Pass the following variables as keyword args: x, y. From version 0.12, the only valid positional argument will be `data`, and passing other arguments without an explicit keyword will result in an error or misinterpretation.\n",
            "  FutureWarning\n"
          ],
          "name": "stderr"
        },
        {
          "output_type": "execute_result",
          "data": {
            "text/plain": [
              "<matplotlib.axes._subplots.AxesSubplot at 0x7f1a2fd00e90>"
            ]
          },
          "metadata": {
            "tags": []
          },
          "execution_count": 74
        },
        {
          "output_type": "display_data",
          "data": {
            "image/png": "[encoded data removed]",
            "text/plain": [
              "<Figure size 432x288 with 1 Axes>"
            ]
          },
          "metadata": {
            "tags": []
          }
        }
      ]
    },
    {
      "cell_type": "code",
      "metadata": {
        "id": "rRuco1KVt1vM",
        "trusted": true,
        "colab": {
          "base_uri": "https://localhost:8080/",
          "height": 354
        },
        "outputId": "841a4662-62ea-4b95-aa42-aec984ee737c"
      },
      "source": [
        "#Trades vs years chart\n",
        "sns.barplot(df.Year,df.Trades)"
      ],
      "execution_count": 75,
      "outputs": [
        {
          "output_type": "stream",
          "text": [
            "/usr/local/lib/python3.7/dist-packages/seaborn/_decorators.py:43: FutureWarning: Pass the following variables as keyword args: x, y. From version 0.12, the only valid positional argument will be `data`, and passing other arguments without an explicit keyword will result in an error or misinterpretation.\n",
            "  FutureWarning\n"
          ],
          "name": "stderr"
        },
        {
          "output_type": "execute_result",
          "data": {
            "text/plain": [
              "<matplotlib.axes._subplots.AxesSubplot at 0x7f1a2fc3dc10>"
            ]
          },
          "metadata": {
            "tags": []
          },
          "execution_count": 75
        },
        {
          "output_type": "display_data",
          "data": {
            "image/png": "[encoded data removed]",
            "text/plain": [
              "<Figure size 432x288 with 1 Axes>"
            ]
          },
          "metadata": {
            "tags": []
          }
        }
      ]
    },
    {
      "cell_type": "code",
      "metadata": {
        "id": "CQoqMRq2sWVS",
        "trusted": true,
        "colab": {
          "base_uri": "https://localhost:8080/",
          "height": 354
        },
        "outputId": "b853d510-e913-4f0c-ea4c-9fe28ce1fda5"
      },
      "source": [
        "#Trades vs months chart\n",
        "sns.barplot(df.Months,df.Trades)"
      ],
      "execution_count": 76,
      "outputs": [
        {
          "output_type": "stream",
          "text": [
            "/usr/local/lib/python3.7/dist-packages/seaborn/_decorators.py:43: FutureWarning: Pass the following variables as keyword args: x, y. From version 0.12, the only valid positional argument will be `data`, and passing other arguments without an explicit keyword will result in an error or misinterpretation.\n",
            "  FutureWarning\n"
          ],
          "name": "stderr"
        },
        {
          "output_type": "execute_result",
          "data": {
            "text/plain": [
              "<matplotlib.axes._subplots.AxesSubplot at 0x7f1a2fb82390>"
            ]
          },
          "metadata": {
            "tags": []
          },
          "execution_count": 76
        },
        {
          "output_type": "display_data",
          "data": {
            "image/png": "[encoded data removed]",
            "text/plain": [
              "<Figure size 432x288 with 1 Axes>"
            ]
          },
          "metadata": {
            "tags": []
          }
        }
      ]
    },
    {
      "cell_type": "code",
      "metadata": {
        "id": "MsuU5F_O7hTy",
        "trusted": true,
        "colab": {
          "base_uri": "https://localhost:8080/",
          "height": 354
        },
        "outputId": "6660ff06-e90d-4f88-da68-af77f960ac7a"
      },
      "source": [
        "#Trades vs weekdays chart\n",
        "sns.barplot(df.Weekdays,df.Trades)"
      ],
      "execution_count": 77,
      "outputs": [
        {
          "output_type": "stream",
          "text": [
            "/usr/local/lib/python3.7/dist-packages/seaborn/_decorators.py:43: FutureWarning: Pass the following variables as keyword args: x, y. From version 0.12, the only valid positional argument will be `data`, and passing other arguments without an explicit keyword will result in an error or misinterpretation.\n",
            "  FutureWarning\n"
          ],
          "name": "stderr"
        },
        {
          "output_type": "execute_result",
          "data": {
            "text/plain": [
              "<matplotlib.axes._subplots.AxesSubplot at 0x7f1a2fb82110>"
            ]
          },
          "metadata": {
            "tags": []
          },
          "execution_count": 77
        },
        {
          "output_type": "display_data",
          "data": {
            "image/png": "[encoded data removed]",
            "text/plain": [
              "<Figure size 432x288 with 1 Axes>"
            ]
          },
          "metadata": {
            "tags": []
          }
        }
      ]
    },
    {
      "cell_type": "code",
      "metadata": {
        "id": "bk8oaP61kWzs",
        "trusted": true,
        "colab": {
          "base_uri": "https://localhost:8080/",
          "height": 354
        },
        "outputId": "380d9f99-63d5-4545-ba6f-a264d6a6f0e2"
      },
      "source": [
        "#highest opening price of day over year analysis\n",
        "sns.barplot(df.Year,df.High)"
      ],
      "execution_count": 78,
      "outputs": [
        {
          "output_type": "stream",
          "text": [
            "/usr/local/lib/python3.7/dist-packages/seaborn/_decorators.py:43: FutureWarning: Pass the following variables as keyword args: x, y. From version 0.12, the only valid positional argument will be `data`, and passing other arguments without an explicit keyword will result in an error or misinterpretation.\n",
            "  FutureWarning\n"
          ],
          "name": "stderr"
        },
        {
          "output_type": "execute_result",
          "data": {
            "text/plain": [
              "<matplotlib.axes._subplots.AxesSubplot at 0x7f1a2fa40450>"
            ]
          },
          "metadata": {
            "tags": []
          },
          "execution_count": 78
        },
        {
          "output_type": "display_data",
          "data": {
            "image/png": "[encoded data removed]",
            "text/plain": [
              "<Figure size 432x288 with 1 Axes>"
            ]
          },
          "metadata": {
            "tags": []
          }
        }
      ]
    },
    {
      "cell_type": "code",
      "metadata": {
        "id": "Wxy23U9ckW4J",
        "trusted": true,
        "colab": {
          "base_uri": "https://localhost:8080/",
          "height": 354
        },
        "outputId": "b89f85d3-54ca-417c-b675-e23b4b5ca531"
      },
      "source": [
        "#lowest opening price of day over year analysis\n",
        "sns.barplot(df.Year,df.Low)"
      ],
      "execution_count": 79,
      "outputs": [
        {
          "output_type": "stream",
          "text": [
            "/usr/local/lib/python3.7/dist-packages/seaborn/_decorators.py:43: FutureWarning: Pass the following variables as keyword args: x, y. From version 0.12, the only valid positional argument will be `data`, and passing other arguments without an explicit keyword will result in an error or misinterpretation.\n",
            "  FutureWarning\n"
          ],
          "name": "stderr"
        },
        {
          "output_type": "execute_result",
          "data": {
            "text/plain": [
              "<matplotlib.axes._subplots.AxesSubplot at 0x7f1a2f9765d0>"
            ]
          },
          "metadata": {
            "tags": []
          },
          "execution_count": 79
        },
        {
          "output_type": "display_data",
          "data": {
            "image/png": "[encoded data removed]",
            "text/plain": [
              "<Figure size 432x288 with 1 Axes>"
            ]
          },
          "metadata": {
            "tags": []
          }
        }
      ]
    },
    {
      "cell_type": "markdown",
      "metadata": {
        "id": "ZUabkMeTO7x3"
      },
      "source": [
        "#RESULTS"
      ]
    },
    {
      "cell_type": "markdown",
      "metadata": {
        "id": "71EU0GnMqgfQ"
      },
      "source": [
        "Questions that came during analysis\n",
        "\n",
        "1. which is the most trading day?\n",
        "2. which month we had seen trading all time high?\n",
        "3. what is the trend of trading year over year?\n",
        "2. what is the highest and lowest turnover?\n",
        "3. highest and lowest volume days?\n"
      ]
    },
    {
      "cell_type": "markdown",
      "metadata": {
        "id": "WWzn_AFrkXuE"
      },
      "source": [
        "SUMMARY AND CONCLUSION\n",
        "\n",
        "Insights:\n",
        "\n",
        "*   The days when volume was greater than 5,00,000 on basis of everdays volume is 25.06%.\n",
        "*   The days when volume was less than 1,00,000 on basis of everdays volume is 23.84%.\n",
        "*   The days when No. of trades was greater than 50,000 on basis of everdays is 8.5%.\n",
        "*   The days when No. of trades was less than 5,000 on basis of everdays is 7.5%.\n",
        "*   Usually after analysis we can say most trading days are from monday to friday. There is usually less or no to trading on saturdays and sundays.\n",
        "*   We have seen the most trading on basis of months after the analysis is almost equal for all months or we can say that small difference will be there.\n",
        "*   Talking about the trend of trading on basis of years, we can say that it has only increasd and for till now with analysis we can say that 2021 year is the most trading year til now.\n",
        "*   Highest turnover of the company = 398043.0\n",
        "*   Lowest turnover of the company = 451.0\n",
        "*  Talking about volume, company has as increasd earlier after that for some years it is decreased but after that it has only increased and from analysis we can say 2020 and 2021 has the most of it.\n",
        "*   All months are mostly happening month for volumes of the company.Still we can say January is best.\n",
        "*   Highest opening price and lowest opening price of the years was between 2021.\n",
        "\n",
        "\n",
        "\n",
        "\n",
        "\n",
        "\n",
        "\n",
        "\n",
        "\n",
        "\n",
        "\n",
        "\n",
        "\n"
      ]
    },
    {
      "cell_type": "code",
      "metadata": {
        "id": "BL8IWTdDkXOC"
      },
      "source": [
        ""
      ],
      "execution_count": null,
      "outputs": []
    },
    {
      "cell_type": "code",
      "metadata": {
        "id": "cZwaJYXCFWWP"
      },
      "source": [
        ""
      ],
      "execution_count": null,
      "outputs": []
    }
  ]
}