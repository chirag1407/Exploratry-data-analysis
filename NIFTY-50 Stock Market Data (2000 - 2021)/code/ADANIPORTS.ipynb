{
  "nbformat": 4,
  "nbformat_minor": 0,
  "metadata": {
    "kernelspec": {
      "language": "python",
      "display_name": "Python 3",
      "name": "python3"
    },
    "language_info": {
      "name": "python",
      "version": "3.7.9",
      "mimetype": "text/x-python",
      "codemirror_mode": {
        "name": "ipython",
        "version": 3
      },
      "pygments_lexer": "ipython3",
      "nbconvert_exporter": "python",
      "file_extension": ".py"
    },
    "colab": {
      "name": "ADANIPORTS.ipynb",
      "provenance": []
    }
  },
  "cells": [
    {
      "cell_type": "markdown",
      "metadata": {
        "id": "kTVNlVq0H1nb"
      },
      "source": [
        "#Exploratry data analysis on ADANIPORTS  datasets\n",
        "\n",
        "\n",
        "TODO- To talk about the dataset and EDA\n",
        "      source-kaggle.\n",
        "      \n",
        "      Information about adaniports stock data\n"
      ]
    },
    {
      "cell_type": "code",
      "metadata": {
        "id": "1-OWnmUCH1ne",
        "trusted": true
      },
      "source": [
        "!pip install opendatasets --upgrade --quiet"
      ],
      "execution_count": 1,
      "outputs": []
    },
    {
      "cell_type": "code",
      "metadata": {
        "colab": {
          "base_uri": "https://localhost:8080/"
        },
        "id": "GepS3jAtNew8",
        "outputId": "b89ae46e-d0b9-40c7-fd8f-9c2c6a2533e2"
      },
      "source": [
        "import opendatasets as od\n",
        "\n",
        "download_url = 'https://www.kaggle.com/rohanrao/nifty50-stock-market-data'\n",
        "\n",
        "od.download(download_url)"
      ],
      "execution_count": 2,
      "outputs": [
        {
          "output_type": "stream",
          "text": [
            "Please provide your Kaggle credentials to download this dataset. Learn more: http://bit.ly/kaggle-creds\n",
            "Your Kaggle username: chiragkumarprajapat\n",
            "Your Kaggle Key: ··········\n"
          ],
          "name": "stdout"
        },
        {
          "output_type": "stream",
          "text": [
            " 33%|███▎      | 6.00M/18.4M [00:00<00:00, 58.3MB/s]"
          ],
          "name": "stderr"
        },
        {
          "output_type": "stream",
          "text": [
            "Downloading nifty50-stock-market-data.zip to ./nifty50-stock-market-data\n"
          ],
          "name": "stdout"
        },
        {
          "output_type": "stream",
          "text": [
            "100%|██████████| 18.4M/18.4M [00:00<00:00, 42.5MB/s]\n"
          ],
          "name": "stderr"
        },
        {
          "output_type": "stream",
          "text": [
            "\n"
          ],
          "name": "stdout"
        }
      ]
    },
    {
      "cell_type": "code",
      "metadata": {
        "id": "l52UQ6-dNiFR"
      },
      "source": [
        "data_file=\"./nifty50-stock-market-data/ASIANPAINT.csv\""
      ],
      "execution_count": 3,
      "outputs": []
    },
    {
      "cell_type": "markdown",
      "metadata": {
        "id": "w2GcOmguJ58B"
      },
      "source": [
        "Data preparation and cleaning\n",
        "1. Loading file using pandas\n",
        "2. We will see some info about data\n",
        "3. If there any incorrect value or missing value will fix that"
      ]
    },
    {
      "cell_type": "code",
      "metadata": {
        "id": "07u4AS6iH1nf",
        "trusted": true
      },
      "source": [
        "#importing libraries\n",
        "import pandas as pd\n"
      ],
      "execution_count": 4,
      "outputs": []
    },
    {
      "cell_type": "code",
      "metadata": {
        "id": "_nP-Y0dmKQ1P",
        "trusted": true,
        "colab": {
          "base_uri": "https://localhost:8080/",
          "height": 407
        },
        "outputId": "10474dd7-739c-4740-ead7-aa8de46463b9"
      },
      "source": [
        "#reading the data into dataframes\n",
        "df= pd.read_csv(data_file)\n",
        "df"
      ],
      "execution_count": 5,
      "outputs": [
        {
          "output_type": "execute_result",
          "data": {
            "text/html": [
              "<div>\n",
              "<style scoped>\n",
              "    .dataframe tbody tr th:only-of-type {\n",
              "        vertical-align: middle;\n",
              "    }\n",
              "\n",
              "    .dataframe tbody tr th {\n",
              "        vertical-align: top;\n",
              "    }\n",
              "\n",
              "    .dataframe thead th {\n",
              "        text-align: right;\n",
              "    }\n",
              "</style>\n",
              "<table border=\"1\" class=\"dataframe\">\n",
              "  <thead>\n",
              "    <tr style=\"text-align: right;\">\n",
              "      <th></th>\n",
              "      <th>Date</th>\n",
              "      <th>Symbol</th>\n",
              "      <th>Series</th>\n",
              "      <th>Prev Close</th>\n",
              "      <th>Open</th>\n",
              "      <th>High</th>\n",
              "      <th>Low</th>\n",
              "      <th>Last</th>\n",
              "      <th>Close</th>\n",
              "      <th>VWAP</th>\n",
              "      <th>Volume</th>\n",
              "      <th>Turnover</th>\n",
              "      <th>Trades</th>\n",
              "      <th>Deliverable Volume</th>\n",
              "      <th>%Deliverble</th>\n",
              "    </tr>\n",
              "  </thead>\n",
              "  <tbody>\n",
              "    <tr>\n",
              "      <th>0</th>\n",
              "      <td>2000-01-03</td>\n",
              "      <td>ASIANPAINT</td>\n",
              "      <td>EQ</td>\n",
              "      <td>361.20</td>\n",
              "      <td>370.0</td>\n",
              "      <td>390.00</td>\n",
              "      <td>370.00</td>\n",
              "      <td>385.0</td>\n",
              "      <td>381.65</td>\n",
              "      <td>380.54</td>\n",
              "      <td>3318</td>\n",
              "      <td>1.262617e+11</td>\n",
              "      <td>NaN</td>\n",
              "      <td>NaN</td>\n",
              "      <td>NaN</td>\n",
              "    </tr>\n",
              "    <tr>\n",
              "      <th>1</th>\n",
              "      <td>2000-01-04</td>\n",
              "      <td>ASIANPAINT</td>\n",
              "      <td>EQ</td>\n",
              "      <td>381.65</td>\n",
              "      <td>380.0</td>\n",
              "      <td>392.00</td>\n",
              "      <td>375.00</td>\n",
              "      <td>390.0</td>\n",
              "      <td>385.55</td>\n",
              "      <td>383.50</td>\n",
              "      <td>4818</td>\n",
              "      <td>1.847699e+11</td>\n",
              "      <td>NaN</td>\n",
              "      <td>NaN</td>\n",
              "      <td>NaN</td>\n",
              "    </tr>\n",
              "    <tr>\n",
              "      <th>2</th>\n",
              "      <td>2000-01-05</td>\n",
              "      <td>ASIANPAINT</td>\n",
              "      <td>EQ</td>\n",
              "      <td>385.55</td>\n",
              "      <td>371.5</td>\n",
              "      <td>390.00</td>\n",
              "      <td>371.50</td>\n",
              "      <td>383.0</td>\n",
              "      <td>383.00</td>\n",
              "      <td>379.81</td>\n",
              "      <td>2628</td>\n",
              "      <td>9.981384e+10</td>\n",
              "      <td>NaN</td>\n",
              "      <td>NaN</td>\n",
              "      <td>NaN</td>\n",
              "    </tr>\n",
              "    <tr>\n",
              "      <th>3</th>\n",
              "      <td>2000-01-06</td>\n",
              "      <td>ASIANPAINT</td>\n",
              "      <td>EQ</td>\n",
              "      <td>383.00</td>\n",
              "      <td>384.9</td>\n",
              "      <td>384.90</td>\n",
              "      <td>374.50</td>\n",
              "      <td>375.1</td>\n",
              "      <td>377.50</td>\n",
              "      <td>379.88</td>\n",
              "      <td>3354</td>\n",
              "      <td>1.274114e+11</td>\n",
              "      <td>NaN</td>\n",
              "      <td>NaN</td>\n",
              "      <td>NaN</td>\n",
              "    </tr>\n",
              "    <tr>\n",
              "      <th>4</th>\n",
              "      <td>2000-01-07</td>\n",
              "      <td>ASIANPAINT</td>\n",
              "      <td>EQ</td>\n",
              "      <td>377.50</td>\n",
              "      <td>376.0</td>\n",
              "      <td>390.00</td>\n",
              "      <td>370.00</td>\n",
              "      <td>389.0</td>\n",
              "      <td>385.70</td>\n",
              "      <td>383.38</td>\n",
              "      <td>9589</td>\n",
              "      <td>3.676275e+11</td>\n",
              "      <td>NaN</td>\n",
              "      <td>NaN</td>\n",
              "      <td>NaN</td>\n",
              "    </tr>\n",
              "    <tr>\n",
              "      <th>...</th>\n",
              "      <td>...</td>\n",
              "      <td>...</td>\n",
              "      <td>...</td>\n",
              "      <td>...</td>\n",
              "      <td>...</td>\n",
              "      <td>...</td>\n",
              "      <td>...</td>\n",
              "      <td>...</td>\n",
              "      <td>...</td>\n",
              "      <td>...</td>\n",
              "      <td>...</td>\n",
              "      <td>...</td>\n",
              "      <td>...</td>\n",
              "      <td>...</td>\n",
              "      <td>...</td>\n",
              "    </tr>\n",
              "    <tr>\n",
              "      <th>5301</th>\n",
              "      <td>2021-04-26</td>\n",
              "      <td>ASIANPAINT</td>\n",
              "      <td>EQ</td>\n",
              "      <td>2517.95</td>\n",
              "      <td>2530.0</td>\n",
              "      <td>2575.00</td>\n",
              "      <td>2530.00</td>\n",
              "      <td>2558.0</td>\n",
              "      <td>2557.90</td>\n",
              "      <td>2557.47</td>\n",
              "      <td>1103980</td>\n",
              "      <td>2.823400e+14</td>\n",
              "      <td>58557.0</td>\n",
              "      <td>335232.0</td>\n",
              "      <td>0.3037</td>\n",
              "    </tr>\n",
              "    <tr>\n",
              "      <th>5302</th>\n",
              "      <td>2021-04-27</td>\n",
              "      <td>ASIANPAINT</td>\n",
              "      <td>EQ</td>\n",
              "      <td>2557.90</td>\n",
              "      <td>2545.0</td>\n",
              "      <td>2579.90</td>\n",
              "      <td>2534.00</td>\n",
              "      <td>2571.0</td>\n",
              "      <td>2574.35</td>\n",
              "      <td>2560.55</td>\n",
              "      <td>866331</td>\n",
              "      <td>2.218288e+14</td>\n",
              "      <td>66988.0</td>\n",
              "      <td>281178.0</td>\n",
              "      <td>0.3246</td>\n",
              "    </tr>\n",
              "    <tr>\n",
              "      <th>5303</th>\n",
              "      <td>2021-04-28</td>\n",
              "      <td>ASIANPAINT</td>\n",
              "      <td>EQ</td>\n",
              "      <td>2574.35</td>\n",
              "      <td>2588.0</td>\n",
              "      <td>2620.25</td>\n",
              "      <td>2575.00</td>\n",
              "      <td>2612.0</td>\n",
              "      <td>2614.55</td>\n",
              "      <td>2605.91</td>\n",
              "      <td>1065561</td>\n",
              "      <td>2.776752e+14</td>\n",
              "      <td>52622.0</td>\n",
              "      <td>449241.0</td>\n",
              "      <td>0.4216</td>\n",
              "    </tr>\n",
              "    <tr>\n",
              "      <th>5304</th>\n",
              "      <td>2021-04-29</td>\n",
              "      <td>ASIANPAINT</td>\n",
              "      <td>EQ</td>\n",
              "      <td>2614.55</td>\n",
              "      <td>2630.0</td>\n",
              "      <td>2642.00</td>\n",
              "      <td>2570.00</td>\n",
              "      <td>2613.0</td>\n",
              "      <td>2613.45</td>\n",
              "      <td>2607.33</td>\n",
              "      <td>1295346</td>\n",
              "      <td>3.377394e+14</td>\n",
              "      <td>64039.0</td>\n",
              "      <td>447979.0</td>\n",
              "      <td>0.3458</td>\n",
              "    </tr>\n",
              "    <tr>\n",
              "      <th>5305</th>\n",
              "      <td>2021-04-30</td>\n",
              "      <td>ASIANPAINT</td>\n",
              "      <td>EQ</td>\n",
              "      <td>2613.45</td>\n",
              "      <td>2595.0</td>\n",
              "      <td>2605.80</td>\n",
              "      <td>2524.05</td>\n",
              "      <td>2529.0</td>\n",
              "      <td>2536.40</td>\n",
              "      <td>2558.66</td>\n",
              "      <td>1384907</td>\n",
              "      <td>3.543512e+14</td>\n",
              "      <td>91934.0</td>\n",
              "      <td>750496.0</td>\n",
              "      <td>0.5419</td>\n",
              "    </tr>\n",
              "  </tbody>\n",
              "</table>\n",
              "<p>5306 rows × 15 columns</p>\n",
              "</div>"
            ],
            "text/plain": [
              "            Date      Symbol Series  ...   Trades  Deliverable Volume  %Deliverble\n",
              "0     2000-01-03  ASIANPAINT     EQ  ...      NaN                 NaN          NaN\n",
              "1     2000-01-04  ASIANPAINT     EQ  ...      NaN                 NaN          NaN\n",
              "2     2000-01-05  ASIANPAINT     EQ  ...      NaN                 NaN          NaN\n",
              "3     2000-01-06  ASIANPAINT     EQ  ...      NaN                 NaN          NaN\n",
              "4     2000-01-07  ASIANPAINT     EQ  ...      NaN                 NaN          NaN\n",
              "...          ...         ...    ...  ...      ...                 ...          ...\n",
              "5301  2021-04-26  ASIANPAINT     EQ  ...  58557.0            335232.0       0.3037\n",
              "5302  2021-04-27  ASIANPAINT     EQ  ...  66988.0            281178.0       0.3246\n",
              "5303  2021-04-28  ASIANPAINT     EQ  ...  52622.0            449241.0       0.4216\n",
              "5304  2021-04-29  ASIANPAINT     EQ  ...  64039.0            447979.0       0.3458\n",
              "5305  2021-04-30  ASIANPAINT     EQ  ...  91934.0            750496.0       0.5419\n",
              "\n",
              "[5306 rows x 15 columns]"
            ]
          },
          "metadata": {
            "tags": []
          },
          "execution_count": 5
        }
      ]
    },
    {
      "cell_type": "code",
      "metadata": {
        "id": "ENjHZ90ZKXgf",
        "trusted": true,
        "colab": {
          "base_uri": "https://localhost:8080/"
        },
        "outputId": "9d8e9d10-0464-4f39-dde2-be1282cda741"
      },
      "source": [
        "#columns on which we are working in\n",
        "df.columns"
      ],
      "execution_count": 6,
      "outputs": [
        {
          "output_type": "execute_result",
          "data": {
            "text/plain": [
              "Index(['Date', 'Symbol', 'Series', 'Prev Close', 'Open', 'High', 'Low', 'Last',\n",
              "       'Close', 'VWAP', 'Volume', 'Turnover', 'Trades', 'Deliverable Volume',\n",
              "       '%Deliverble'],\n",
              "      dtype='object')"
            ]
          },
          "metadata": {
            "tags": []
          },
          "execution_count": 6
        }
      ]
    },
    {
      "cell_type": "code",
      "metadata": {
        "id": "kiTV2TByK3xz",
        "trusted": true,
        "colab": {
          "base_uri": "https://localhost:8080/"
        },
        "outputId": "16ec36c4-1f2d-404d-8b34-0b4dec199cb0"
      },
      "source": [
        "#some more information about data\n",
        "df.info()"
      ],
      "execution_count": 7,
      "outputs": [
        {
          "output_type": "stream",
          "text": [
            "<class 'pandas.core.frame.DataFrame'>\n",
            "RangeIndex: 5306 entries, 0 to 5305\n",
            "Data columns (total 15 columns):\n",
            " #   Column              Non-Null Count  Dtype  \n",
            "---  ------              --------------  -----  \n",
            " 0   Date                5306 non-null   object \n",
            " 1   Symbol              5306 non-null   object \n",
            " 2   Series              5306 non-null   object \n",
            " 3   Prev Close          5306 non-null   float64\n",
            " 4   Open                5306 non-null   float64\n",
            " 5   High                5306 non-null   float64\n",
            " 6   Low                 5306 non-null   float64\n",
            " 7   Last                5306 non-null   float64\n",
            " 8   Close               5306 non-null   float64\n",
            " 9   VWAP                5306 non-null   float64\n",
            " 10  Volume              5306 non-null   int64  \n",
            " 11  Turnover            5306 non-null   float64\n",
            " 12  Trades              2456 non-null   float64\n",
            " 13  Deliverable Volume  4797 non-null   float64\n",
            " 14  %Deliverble         4797 non-null   float64\n",
            "dtypes: float64(11), int64(1), object(3)\n",
            "memory usage: 621.9+ KB\n"
          ],
          "name": "stdout"
        }
      ]
    },
    {
      "cell_type": "code",
      "metadata": {
        "id": "lJgt0fSKLG0N",
        "trusted": true,
        "colab": {
          "base_uri": "https://localhost:8080/",
          "height": 288
        },
        "outputId": "caf6b888-12aa-49a6-a872-178b9df175c8"
      },
      "source": [
        "#through this command we can see the mean, max, min and other details\n",
        "df.describe()"
      ],
      "execution_count": 8,
      "outputs": [
        {
          "output_type": "execute_result",
          "data": {
            "text/html": [
              "<div>\n",
              "<style scoped>\n",
              "    .dataframe tbody tr th:only-of-type {\n",
              "        vertical-align: middle;\n",
              "    }\n",
              "\n",
              "    .dataframe tbody tr th {\n",
              "        vertical-align: top;\n",
              "    }\n",
              "\n",
              "    .dataframe thead th {\n",
              "        text-align: right;\n",
              "    }\n",
              "</style>\n",
              "<table border=\"1\" class=\"dataframe\">\n",
              "  <thead>\n",
              "    <tr style=\"text-align: right;\">\n",
              "      <th></th>\n",
              "      <th>Prev Close</th>\n",
              "      <th>Open</th>\n",
              "      <th>High</th>\n",
              "      <th>Low</th>\n",
              "      <th>Last</th>\n",
              "      <th>Close</th>\n",
              "      <th>VWAP</th>\n",
              "      <th>Volume</th>\n",
              "      <th>Turnover</th>\n",
              "      <th>Trades</th>\n",
              "      <th>Deliverable Volume</th>\n",
              "      <th>%Deliverble</th>\n",
              "    </tr>\n",
              "  </thead>\n",
              "  <tbody>\n",
              "    <tr>\n",
              "      <th>count</th>\n",
              "      <td>5306.000000</td>\n",
              "      <td>5306.000000</td>\n",
              "      <td>5306.000000</td>\n",
              "      <td>5306.000000</td>\n",
              "      <td>5306.000000</td>\n",
              "      <td>5306.000000</td>\n",
              "      <td>5306.000000</td>\n",
              "      <td>5.306000e+03</td>\n",
              "      <td>5.306000e+03</td>\n",
              "      <td>2456.000000</td>\n",
              "      <td>4.797000e+03</td>\n",
              "      <td>4797.000000</td>\n",
              "    </tr>\n",
              "    <tr>\n",
              "      <th>mean</th>\n",
              "      <td>1247.000952</td>\n",
              "      <td>1247.683952</td>\n",
              "      <td>1264.625349</td>\n",
              "      <td>1230.900697</td>\n",
              "      <td>1247.317132</td>\n",
              "      <td>1247.410903</td>\n",
              "      <td>1247.799926</td>\n",
              "      <td>5.096721e+05</td>\n",
              "      <td>6.942919e+13</td>\n",
              "      <td>41346.011401</td>\n",
              "      <td>2.751281e+05</td>\n",
              "      <td>0.625572</td>\n",
              "    </tr>\n",
              "    <tr>\n",
              "      <th>std</th>\n",
              "      <td>1074.399506</td>\n",
              "      <td>1074.025577</td>\n",
              "      <td>1087.238871</td>\n",
              "      <td>1062.629409</td>\n",
              "      <td>1074.432667</td>\n",
              "      <td>1074.476439</td>\n",
              "      <td>1075.057438</td>\n",
              "      <td>8.535993e+05</td>\n",
              "      <td>1.443973e+14</td>\n",
              "      <td>36435.449733</td>\n",
              "      <td>4.157465e+05</td>\n",
              "      <td>0.187597</td>\n",
              "    </tr>\n",
              "    <tr>\n",
              "      <th>min</th>\n",
              "      <td>210.750000</td>\n",
              "      <td>210.000000</td>\n",
              "      <td>215.750000</td>\n",
              "      <td>204.000000</td>\n",
              "      <td>210.600000</td>\n",
              "      <td>210.750000</td>\n",
              "      <td>212.220000</td>\n",
              "      <td>2.500000e+01</td>\n",
              "      <td>1.278415e+09</td>\n",
              "      <td>70.000000</td>\n",
              "      <td>2.500000e+01</td>\n",
              "      <td>0.076800</td>\n",
              "    </tr>\n",
              "    <tr>\n",
              "      <th>25%</th>\n",
              "      <td>415.737500</td>\n",
              "      <td>415.000000</td>\n",
              "      <td>424.950000</td>\n",
              "      <td>410.000000</td>\n",
              "      <td>416.000000</td>\n",
              "      <td>416.262500</td>\n",
              "      <td>415.692500</td>\n",
              "      <td>1.370750e+04</td>\n",
              "      <td>7.538133e+11</td>\n",
              "      <td>16264.750000</td>\n",
              "      <td>1.262200e+04</td>\n",
              "      <td>0.486200</td>\n",
              "    </tr>\n",
              "    <tr>\n",
              "      <th>50%</th>\n",
              "      <td>889.375000</td>\n",
              "      <td>890.000000</td>\n",
              "      <td>903.975000</td>\n",
              "      <td>878.075000</td>\n",
              "      <td>890.000000</td>\n",
              "      <td>889.475000</td>\n",
              "      <td>888.350000</td>\n",
              "      <td>5.713600e+04</td>\n",
              "      <td>1.109437e+13</td>\n",
              "      <td>32402.500000</td>\n",
              "      <td>5.273800e+04</td>\n",
              "      <td>0.616100</td>\n",
              "    </tr>\n",
              "    <tr>\n",
              "      <th>75%</th>\n",
              "      <td>1599.037500</td>\n",
              "      <td>1599.800000</td>\n",
              "      <td>1629.675000</td>\n",
              "      <td>1573.037500</td>\n",
              "      <td>1602.500000</td>\n",
              "      <td>1600.762500</td>\n",
              "      <td>1600.982500</td>\n",
              "      <td>8.077905e+05</td>\n",
              "      <td>7.761479e+13</td>\n",
              "      <td>54727.500000</td>\n",
              "      <td>4.383750e+05</td>\n",
              "      <td>0.765500</td>\n",
              "    </tr>\n",
              "    <tr>\n",
              "      <th>max</th>\n",
              "      <td>5213.100000</td>\n",
              "      <td>5221.100000</td>\n",
              "      <td>5247.750000</td>\n",
              "      <td>5150.050000</td>\n",
              "      <td>5221.100000</td>\n",
              "      <td>5213.100000</td>\n",
              "      <td>5175.790000</td>\n",
              "      <td>1.154594e+07</td>\n",
              "      <td>2.216650e+15</td>\n",
              "      <td>351347.000000</td>\n",
              "      <td>7.938427e+06</td>\n",
              "      <td>1.000000</td>\n",
              "    </tr>\n",
              "  </tbody>\n",
              "</table>\n",
              "</div>"
            ],
            "text/plain": [
              "        Prev Close         Open  ...  Deliverable Volume  %Deliverble\n",
              "count  5306.000000  5306.000000  ...        4.797000e+03  4797.000000\n",
              "mean   1247.000952  1247.683952  ...        2.751281e+05     0.625572\n",
              "std    1074.399506  1074.025577  ...        4.157465e+05     0.187597\n",
              "min     210.750000   210.000000  ...        2.500000e+01     0.076800\n",
              "25%     415.737500   415.000000  ...        1.262200e+04     0.486200\n",
              "50%     889.375000   890.000000  ...        5.273800e+04     0.616100\n",
              "75%    1599.037500  1599.800000  ...        4.383750e+05     0.765500\n",
              "max    5213.100000  5221.100000  ...        7.938427e+06     1.000000\n",
              "\n",
              "[8 rows x 12 columns]"
            ]
          },
          "metadata": {
            "tags": []
          },
          "execution_count": 8
        }
      ]
    },
    {
      "cell_type": "markdown",
      "metadata": {
        "id": "grArSiv1L57v"
      },
      "source": [
        ""
      ]
    },
    {
      "cell_type": "code",
      "metadata": {
        "id": "6FVCy4WOLcjg",
        "trusted": true,
        "colab": {
          "base_uri": "https://localhost:8080/"
        },
        "outputId": "1bcd7128-f226-49d7-aea7-8ef02ba66661"
      },
      "source": [
        "numerical_datatype=['int16','int32','int64','float16','float32','float64']\n",
        "numeric_df = df.select_dtypes(include=numerical_datatype)\n",
        "len(numeric_df.columns)"
      ],
      "execution_count": 9,
      "outputs": [
        {
          "output_type": "execute_result",
          "data": {
            "text/plain": [
              "12"
            ]
          },
          "metadata": {
            "tags": []
          },
          "execution_count": 9
        }
      ]
    },
    {
      "cell_type": "markdown",
      "metadata": {
        "id": "lNJTU3IEN0kZ"
      },
      "source": [
        "Percentage of missing values in data\n"
      ]
    },
    {
      "cell_type": "code",
      "metadata": {
        "id": "8dGBpnzzM6pJ",
        "trusted": true,
        "colab": {
          "base_uri": "https://localhost:8080/"
        },
        "outputId": "f96d3357-1f35-4b92-abed-233fdf4e275a"
      },
      "source": [
        "#searching for missing value in percentage\n",
        "missing_percentage=df.isnull().sum().sort_values(ascending=False)/len(df)\n",
        "missing_percentage"
      ],
      "execution_count": 10,
      "outputs": [
        {
          "output_type": "execute_result",
          "data": {
            "text/plain": [
              "Trades                0.537128\n",
              "%Deliverble           0.095929\n",
              "Deliverable Volume    0.095929\n",
              "Turnover              0.000000\n",
              "Volume                0.000000\n",
              "VWAP                  0.000000\n",
              "Close                 0.000000\n",
              "Last                  0.000000\n",
              "Low                   0.000000\n",
              "High                  0.000000\n",
              "Open                  0.000000\n",
              "Prev Close            0.000000\n",
              "Series                0.000000\n",
              "Symbol                0.000000\n",
              "Date                  0.000000\n",
              "dtype: float64"
            ]
          },
          "metadata": {
            "tags": []
          },
          "execution_count": 10
        }
      ]
    },
    {
      "cell_type": "code",
      "metadata": {
        "id": "qxxyVMfoNJXd",
        "trusted": true,
        "colab": {
          "base_uri": "https://localhost:8080/",
          "height": 371
        },
        "outputId": "f7ee7686-14c0-4d92-8e76-6ef1e626e72f"
      },
      "source": [
        "#missing value percentage using barchart\n",
        "missing_percentage.plot(kind='bar')"
      ],
      "execution_count": 11,
      "outputs": [
        {
          "output_type": "execute_result",
          "data": {
            "text/plain": [
              "<matplotlib.axes._subplots.AxesSubplot at 0x7f7abe65e690>"
            ]
          },
          "metadata": {
            "tags": []
          },
          "execution_count": 11
        },
        {
          "output_type": "display_data",
          "data": {
            "image/png": "[encoded data removed]",
            "text/plain": [
              "<Figure size 432x288 with 1 Axes>"
            ]
          },
          "metadata": {
            "tags": [],
            "needs_background": "light"
          }
        }
      ]
    },
    {
      "cell_type": "markdown",
      "metadata": {
        "id": "fDKDvEOrPBor"
      },
      "source": [
        "EXPLORATRY ANALYSIS AND VISUALIZATION\n",
        "\n",
        "Columns which are going to be analyzed:\n",
        "1. Volume\n",
        "2. Trades\n",
        "3. Turnover\n",
        "4. Date for analysing over year analysis\n",
        "5. High and Low\n"
      ]
    },
    {
      "cell_type": "code",
      "metadata": {
        "id": "Pu7SSn8CO7Cy",
        "trusted": true,
        "colab": {
          "base_uri": "https://localhost:8080/"
        },
        "outputId": "bb64971f-46ad-46ac-9e7d-728c15e7723a"
      },
      "source": [
        "df.columns"
      ],
      "execution_count": 12,
      "outputs": [
        {
          "output_type": "execute_result",
          "data": {
            "text/plain": [
              "Index(['Date', 'Symbol', 'Series', 'Prev Close', 'Open', 'High', 'Low', 'Last',\n",
              "       'Close', 'VWAP', 'Volume', 'Turnover', 'Trades', 'Deliverable Volume',\n",
              "       '%Deliverble'],\n",
              "      dtype='object')"
            ]
          },
          "metadata": {
            "tags": []
          },
          "execution_count": 12
        }
      ]
    },
    {
      "cell_type": "code",
      "metadata": {
        "id": "yY6XnGfwPnrm",
        "trusted": true,
        "colab": {
          "base_uri": "https://localhost:8080/"
        },
        "outputId": "3379b26e-a745-48c7-dccb-81e6e6c2cbbf"
      },
      "source": [
        "a=df.Series.unique()\n",
        "len(a)"
      ],
      "execution_count": 13,
      "outputs": [
        {
          "output_type": "execute_result",
          "data": {
            "text/plain": [
              "1"
            ]
          },
          "metadata": {
            "tags": []
          },
          "execution_count": 13
        }
      ]
    },
    {
      "cell_type": "markdown",
      "metadata": {
        "id": "MqtpIpchm_tV"
      },
      "source": [
        "#Volume"
      ]
    },
    {
      "cell_type": "code",
      "metadata": {
        "id": "YnoXIfxPcpij",
        "trusted": true
      },
      "source": [
        "#importing seaborn libaray for better visualization of data\n",
        "import seaborn as sns\n",
        "sns.set_style(\"darkgrid\")"
      ],
      "execution_count": 14,
      "outputs": []
    },
    {
      "cell_type": "code",
      "metadata": {
        "id": "Exvo1OrxiSux",
        "trusted": true,
        "colab": {
          "base_uri": "https://localhost:8080/",
          "height": 301
        },
        "outputId": "fc56bee4-e276-449e-ad46-a7fda36b2a39"
      },
      "source": [
        "#volume column histogram represents most of the volume of comapny is between 10^3 to 10^7\n",
        "sns.histplot(df.Volume, log_scale=True)"
      ],
      "execution_count": 16,
      "outputs": [
        {
          "output_type": "execute_result",
          "data": {
            "text/plain": [
              "<matplotlib.axes._subplots.AxesSubplot at 0x7f7aaf5a2790>"
            ]
          },
          "metadata": {
            "tags": []
          },
          "execution_count": 16
        },
        {
          "output_type": "display_data",
          "data": {
            "image/png": "[encoded data removed]",
            "text/plain": [
              "<Figure size 432x288 with 1 Axes>"
            ]
          },
          "metadata": {
            "tags": []
          }
        }
      ]
    },
    {
      "cell_type": "code",
      "metadata": {
        "id": "7Fk91su5kjS3",
        "trusted": true,
        "colab": {
          "base_uri": "https://localhost:8080/"
        },
        "outputId": "1e8445ad-7408-4147-c8ff-06a1511975ed"
      },
      "source": [
        "volumes=df.Volume.value_counts()\n",
        "len(volumes)"
      ],
      "execution_count": 17,
      "outputs": [
        {
          "output_type": "execute_result",
          "data": {
            "text/plain": [
              "5214"
            ]
          },
          "metadata": {
            "tags": []
          },
          "execution_count": 17
        }
      ]
    },
    {
      "cell_type": "code",
      "metadata": {
        "id": "XCFSEET4igIG",
        "trusted": true
      },
      "source": [
        "#checking for higher volumes and lower volumes that company got\n",
        "high_volume=df.Volume[df.Volume>=1000000]\n",
        "low_volume=df.Volume[df.Volume<10000]"
      ],
      "execution_count": 24,
      "outputs": []
    },
    {
      "cell_type": "code",
      "metadata": {
        "id": "mZ_38MwkjmBD",
        "trusted": true,
        "colab": {
          "base_uri": "https://localhost:8080/"
        },
        "outputId": "355e21f5-b873-4610-d657-869a78b6e04b"
      },
      "source": [
        "len(high_volume)/len(volumes)"
      ],
      "execution_count": 25,
      "outputs": [
        {
          "output_type": "execute_result",
          "data": {
            "text/plain": [
              "0.2027234369006521"
            ]
          },
          "metadata": {
            "tags": []
          },
          "execution_count": 25
        }
      ]
    },
    {
      "cell_type": "code",
      "metadata": {
        "id": "COASPF1Bjn0b",
        "trusted": true,
        "colab": {
          "base_uri": "https://localhost:8080/"
        },
        "outputId": "b167decf-6369-4b4a-ab54-b4d7d488ddf2"
      },
      "source": [
        "len(low_volume)/len(volumes)"
      ],
      "execution_count": 26,
      "outputs": [
        {
          "output_type": "execute_result",
          "data": {
            "text/plain": [
              "0.1996547756041427"
            ]
          },
          "metadata": {
            "tags": []
          },
          "execution_count": 26
        }
      ]
    },
    {
      "cell_type": "markdown",
      "metadata": {
        "id": "IxIWZslxnE3c"
      },
      "source": [
        "#Trades"
      ]
    },
    {
      "cell_type": "code",
      "metadata": {
        "id": "FVvx9p1inEif",
        "trusted": true,
        "colab": {
          "base_uri": "https://localhost:8080/"
        },
        "outputId": "d2dfb830-e574-413f-c15f-c1c4b60b2a9d"
      },
      "source": [
        "df.Trades.fillna(0).astype(int)"
      ],
      "execution_count": 30,
      "outputs": [
        {
          "output_type": "execute_result",
          "data": {
            "text/plain": [
              "0           0\n",
              "1           0\n",
              "2           0\n",
              "3           0\n",
              "4           0\n",
              "        ...  \n",
              "5301    58557\n",
              "5302    66988\n",
              "5303    52622\n",
              "5304    64039\n",
              "5305    91934\n",
              "Name: Trades, Length: 5306, dtype: int64"
            ]
          },
          "metadata": {
            "tags": []
          },
          "execution_count": 30
        }
      ]
    },
    {
      "cell_type": "code",
      "metadata": {
        "id": "6TUTmKyOkWmm",
        "trusted": true,
        "colab": {
          "base_uri": "https://localhost:8080/",
          "height": 301
        },
        "outputId": "13c40766-96d0-4b07-e627-6ae03b25f518"
      },
      "source": [
        "#Trades column histogram represents most of the trades of comapny is between 10^3 to 10^5\n",
        "sns.histplot(df.Trades, log_scale=True)\n"
      ],
      "execution_count": 32,
      "outputs": [
        {
          "output_type": "execute_result",
          "data": {
            "text/plain": [
              "<matplotlib.axes._subplots.AxesSubplot at 0x7f7aaf1a7a50>"
            ]
          },
          "metadata": {
            "tags": []
          },
          "execution_count": 32
        },
        {
          "output_type": "display_data",
          "data": {
            "image/png": "[encoded data removed]",
            "text/plain": [
              "<Figure size 432x288 with 1 Axes>"
            ]
          },
          "metadata": {
            "tags": []
          }
        }
      ]
    },
    {
      "cell_type": "code",
      "metadata": {
        "id": "WCqiN6q-kWo-",
        "trusted": true,
        "colab": {
          "base_uri": "https://localhost:8080/"
        },
        "outputId": "f006accf-b0a5-471c-8933-0b8b8220c834"
      },
      "source": [
        "Trades_count=df.Trades.value_counts()\n",
        "len(Trades_count)"
      ],
      "execution_count": 33,
      "outputs": [
        {
          "output_type": "execute_result",
          "data": {
            "text/plain": [
              "2419"
            ]
          },
          "metadata": {
            "tags": []
          },
          "execution_count": 33
        }
      ]
    },
    {
      "cell_type": "code",
      "metadata": {
        "id": "E9sWkQYQkWrH",
        "trusted": true
      },
      "source": [
        "high_trades=df.Trades[df.Trades>=70000]\n",
        "low_trades=df.Trades[df.Trades<10000]"
      ],
      "execution_count": 34,
      "outputs": []
    },
    {
      "cell_type": "code",
      "metadata": {
        "id": "wikbSoUpuWfq",
        "trusted": true,
        "colab": {
          "base_uri": "https://localhost:8080/"
        },
        "outputId": "b62d2a66-98b3-4f91-a151-0a29e8a9f83b"
      },
      "source": [
        "len(high_trades)/len(Trades_count)"
      ],
      "execution_count": 35,
      "outputs": [
        {
          "output_type": "execute_result",
          "data": {
            "text/plain": [
              "0.15791649441918149"
            ]
          },
          "metadata": {
            "tags": []
          },
          "execution_count": 35
        }
      ]
    },
    {
      "cell_type": "code",
      "metadata": {
        "id": "uRsj1lnYuWcd",
        "trusted": true,
        "colab": {
          "base_uri": "https://localhost:8080/"
        },
        "outputId": "feaddb8d-86e2-430d-86cb-f91cfaaa5664"
      },
      "source": [
        "len(low_trades)/len(Trades_count)"
      ],
      "execution_count": 36,
      "outputs": [
        {
          "output_type": "execute_result",
          "data": {
            "text/plain": [
              "0.16039685820587019"
            ]
          },
          "metadata": {
            "tags": []
          },
          "execution_count": 36
        }
      ]
    },
    {
      "cell_type": "markdown",
      "metadata": {
        "id": "1NcwoA3NuRUD"
      },
      "source": [
        "#TURNOVER"
      ]
    },
    {
      "cell_type": "code",
      "metadata": {
        "id": "SAuja0jCuPnF",
        "trusted": true,
        "colab": {
          "base_uri": "https://localhost:8080/",
          "height": 301
        },
        "outputId": "d61da02b-42ee-45b5-f3b7-739e450163a3"
      },
      "source": [
        "#visualization of turnover of the company\n",
        "sns.histplot(df.Turnover, log_scale=True)"
      ],
      "execution_count": 37,
      "outputs": [
        {
          "output_type": "execute_result",
          "data": {
            "text/plain": [
              "<matplotlib.axes._subplots.AxesSubplot at 0x7f7aaeecea10>"
            ]
          },
          "metadata": {
            "tags": []
          },
          "execution_count": 37
        },
        {
          "output_type": "display_data",
          "data": {
            "image/png": "[encoded data removed]",
            "text/plain": [
              "<Figure size 432x288 with 1 Axes>"
            ]
          },
          "metadata": {
            "tags": []
          }
        }
      ]
    },
    {
      "cell_type": "code",
      "metadata": {
        "id": "HlEUusKzuPjz",
        "trusted": true,
        "colab": {
          "base_uri": "https://localhost:8080/"
        },
        "outputId": "cea5e541-7b00-427b-d3bb-6c40661d208a"
      },
      "source": [
        "highest_turnover=df.Trades.max()\n",
        "highest_turnover"
      ],
      "execution_count": 38,
      "outputs": [
        {
          "output_type": "execute_result",
          "data": {
            "text/plain": [
              "351347.0"
            ]
          },
          "metadata": {
            "tags": []
          },
          "execution_count": 38
        }
      ]
    },
    {
      "cell_type": "code",
      "metadata": {
        "id": "MFs4BsLKuPhz",
        "trusted": true,
        "colab": {
          "base_uri": "https://localhost:8080/"
        },
        "outputId": "926ecac4-6e22-4653-aa6f-c3c2cf02bc28"
      },
      "source": [
        "lowest_turnover=df.Trades.min()\n",
        "lowest_turnover"
      ],
      "execution_count": 39,
      "outputs": [
        {
          "output_type": "execute_result",
          "data": {
            "text/plain": [
              "70.0"
            ]
          },
          "metadata": {
            "tags": []
          },
          "execution_count": 39
        }
      ]
    },
    {
      "cell_type": "markdown",
      "metadata": {
        "id": "RJN1Mb4ZvjOx"
      },
      "source": [
        "#DATE"
      ]
    },
    {
      "cell_type": "code",
      "metadata": {
        "id": "6EA9xaaI1J21",
        "trusted": true
      },
      "source": [
        "df['Date'] = pd.to_datetime(df['Date'])\n",
        "df['Month'] = df['Date'].dt.month\n",
        "df['Year'] = df['Date'].dt.year\n",
        "df['Weekdays'] = df['Date'].dt.dayofweek\n",
        "df['Months'] = df['Date'].dt.strftime('%b')"
      ],
      "execution_count": 40,
      "outputs": []
    },
    {
      "cell_type": "code",
      "metadata": {
        "id": "3xmw9fwVkWs2",
        "trusted": true,
        "colab": {
          "base_uri": "https://localhost:8080/",
          "height": 297
        },
        "outputId": "871a5dc8-f55d-4bd2-8ac3-8717f9a4686c"
      },
      "source": [
        "#sns.histplot(df.Months, bins=12, kde=False)"
      ],
      "execution_count": 41,
      "outputs": [
        {
          "output_type": "execute_result",
          "data": {
            "text/plain": [
              "<matplotlib.axes._subplots.AxesSubplot at 0x7f7abf278610>"
            ]
          },
          "metadata": {
            "tags": []
          },
          "execution_count": 41
        },
        {
          "output_type": "display_data",
          "data": {
            "image/png": "[encoded data removed]",
            "text/plain": [
              "<Figure size 432x288 with 1 Axes>"
            ]
          },
          "metadata": {
            "tags": []
          }
        }
      ]
    },
    {
      "cell_type": "code",
      "metadata": {
        "id": "ihR_wuWBtk_w",
        "trusted": true,
        "colab": {
          "base_uri": "https://localhost:8080/",
          "height": 365
        },
        "outputId": "734c6439-8081-4aed-96be-621b169a5773"
      },
      "source": [
        "#volumes vs years chart\n",
        "sns.barplot(df.Year,df.Volume)"
      ],
      "execution_count": 42,
      "outputs": [
        {
          "output_type": "stream",
          "text": [
            "/usr/local/lib/python3.7/dist-packages/seaborn/_decorators.py:43: FutureWarning: Pass the following variables as keyword args: x, y. From version 0.12, the only valid positional argument will be `data`, and passing other arguments without an explicit keyword will result in an error or misinterpretation.\n",
            "  FutureWarning\n"
          ],
          "name": "stderr"
        },
        {
          "output_type": "execute_result",
          "data": {
            "text/plain": [
              "<matplotlib.axes._subplots.AxesSubplot at 0x7f7aaec87110>"
            ]
          },
          "metadata": {
            "tags": []
          },
          "execution_count": 42
        },
        {
          "output_type": "display_data",
          "data": {
            "image/png": "[encoded data removed]",
            "text/plain": [
              "<Figure size 432x288 with 1 Axes>"
            ]
          },
          "metadata": {
            "tags": []
          }
        }
      ]
    },
    {
      "cell_type": "code",
      "metadata": {
        "id": "XTt_Vr90sxbI",
        "trusted": true,
        "colab": {
          "base_uri": "https://localhost:8080/",
          "height": 356
        },
        "outputId": "29a59f5c-0c35-4a0b-c279-ace321c9d779"
      },
      "source": [
        "#volumes vs months chart\n",
        "sns.barplot(df.Months,df.Volume)"
      ],
      "execution_count": 43,
      "outputs": [
        {
          "output_type": "stream",
          "text": [
            "/usr/local/lib/python3.7/dist-packages/seaborn/_decorators.py:43: FutureWarning: Pass the following variables as keyword args: x, y. From version 0.12, the only valid positional argument will be `data`, and passing other arguments without an explicit keyword will result in an error or misinterpretation.\n",
            "  FutureWarning\n"
          ],
          "name": "stderr"
        },
        {
          "output_type": "execute_result",
          "data": {
            "text/plain": [
              "<matplotlib.axes._subplots.AxesSubplot at 0x7f7aaeb27b10>"
            ]
          },
          "metadata": {
            "tags": []
          },
          "execution_count": 43
        },
        {
          "output_type": "display_data",
          "data": {
            "image/png": "[encoded data removed]",
            "text/plain": [
              "<Figure size 432x288 with 1 Axes>"
            ]
          },
          "metadata": {
            "tags": []
          }
        }
      ]
    },
    {
      "cell_type": "code",
      "metadata": {
        "id": "rRuco1KVt1vM",
        "trusted": true,
        "colab": {
          "base_uri": "https://localhost:8080/",
          "height": 354
        },
        "outputId": "12769534-14a7-4075-8a9a-f1bf736b5eb2"
      },
      "source": [
        "#Trades vs years chart\n",
        "sns.barplot(df.Year,df.Trades)"
      ],
      "execution_count": 44,
      "outputs": [
        {
          "output_type": "stream",
          "text": [
            "/usr/local/lib/python3.7/dist-packages/seaborn/_decorators.py:43: FutureWarning: Pass the following variables as keyword args: x, y. From version 0.12, the only valid positional argument will be `data`, and passing other arguments without an explicit keyword will result in an error or misinterpretation.\n",
            "  FutureWarning\n"
          ],
          "name": "stderr"
        },
        {
          "output_type": "execute_result",
          "data": {
            "text/plain": [
              "<matplotlib.axes._subplots.AxesSubplot at 0x7f7aaed4d650>"
            ]
          },
          "metadata": {
            "tags": []
          },
          "execution_count": 44
        },
        {
          "output_type": "display_data",
          "data": {
            "image/png": "[encoded data removed]",
            "text/plain": [
              "<Figure size 432x288 with 1 Axes>"
            ]
          },
          "metadata": {
            "tags": []
          }
        }
      ]
    },
    {
      "cell_type": "code",
      "metadata": {
        "id": "CQoqMRq2sWVS",
        "trusted": true,
        "colab": {
          "base_uri": "https://localhost:8080/",
          "height": 354
        },
        "outputId": "086f5872-6441-4871-bdb9-65a4a43ad276"
      },
      "source": [
        "#Trades vs months chart\n",
        "sns.barplot(df.Months,df.Trades)"
      ],
      "execution_count": 47,
      "outputs": [
        {
          "output_type": "stream",
          "text": [
            "/usr/local/lib/python3.7/dist-packages/seaborn/_decorators.py:43: FutureWarning: Pass the following variables as keyword args: x, y. From version 0.12, the only valid positional argument will be `data`, and passing other arguments without an explicit keyword will result in an error or misinterpretation.\n",
            "  FutureWarning\n"
          ],
          "name": "stderr"
        },
        {
          "output_type": "execute_result",
          "data": {
            "text/plain": [
              "<matplotlib.axes._subplots.AxesSubplot at 0x7f7aae999050>"
            ]
          },
          "metadata": {
            "tags": []
          },
          "execution_count": 47
        },
        {
          "output_type": "display_data",
          "data": {
            "image/png": "[encoded data removed]",
            "text/plain": [
              "<Figure size 432x288 with 1 Axes>"
            ]
          },
          "metadata": {
            "tags": []
          }
        }
      ]
    },
    {
      "cell_type": "code",
      "metadata": {
        "id": "MsuU5F_O7hTy",
        "trusted": true,
        "colab": {
          "base_uri": "https://localhost:8080/",
          "height": 354
        },
        "outputId": "9fcb7cd3-ca2e-4fc8-ee1e-94dc4138f395"
      },
      "source": [
        "#Trades vs weekdays chart\n",
        "sns.barplot(df.Weekdays,df.Trades)"
      ],
      "execution_count": 48,
      "outputs": [
        {
          "output_type": "stream",
          "text": [
            "/usr/local/lib/python3.7/dist-packages/seaborn/_decorators.py:43: FutureWarning: Pass the following variables as keyword args: x, y. From version 0.12, the only valid positional argument will be `data`, and passing other arguments without an explicit keyword will result in an error or misinterpretation.\n",
            "  FutureWarning\n"
          ],
          "name": "stderr"
        },
        {
          "output_type": "execute_result",
          "data": {
            "text/plain": [
              "<matplotlib.axes._subplots.AxesSubplot at 0x7f7aae988fd0>"
            ]
          },
          "metadata": {
            "tags": []
          },
          "execution_count": 48
        },
        {
          "output_type": "display_data",
          "data": {
            "image/png": "[encoded data removed]",
            "text/plain": [
              "<Figure size 432x288 with 1 Axes>"
            ]
          },
          "metadata": {
            "tags": []
          }
        }
      ]
    },
    {
      "cell_type": "code",
      "metadata": {
        "id": "bk8oaP61kWzs",
        "trusted": true,
        "colab": {
          "base_uri": "https://localhost:8080/",
          "height": 354
        },
        "outputId": "585981b8-85ad-4c33-97ac-28d2ab4e9aa2"
      },
      "source": [
        "#highest opening price of day over year analysis\n",
        "sns.barplot(df.Year,df.High)"
      ],
      "execution_count": 49,
      "outputs": [
        {
          "output_type": "stream",
          "text": [
            "/usr/local/lib/python3.7/dist-packages/seaborn/_decorators.py:43: FutureWarning: Pass the following variables as keyword args: x, y. From version 0.12, the only valid positional argument will be `data`, and passing other arguments without an explicit keyword will result in an error or misinterpretation.\n",
            "  FutureWarning\n"
          ],
          "name": "stderr"
        },
        {
          "output_type": "execute_result",
          "data": {
            "text/plain": [
              "<matplotlib.axes._subplots.AxesSubplot at 0x7f7aae853e90>"
            ]
          },
          "metadata": {
            "tags": []
          },
          "execution_count": 49
        },
        {
          "output_type": "display_data",
          "data": {
            "image/png": "[encoded data removed]",
            "text/plain": [
              "<Figure size 432x288 with 1 Axes>"
            ]
          },
          "metadata": {
            "tags": []
          }
        }
      ]
    },
    {
      "cell_type": "code",
      "metadata": {
        "id": "Wxy23U9ckW4J",
        "trusted": true,
        "colab": {
          "base_uri": "https://localhost:8080/",
          "height": 354
        },
        "outputId": "ade67797-5f87-4da7-ad53-4bd035f77639"
      },
      "source": [
        "#lowest opening price of day over year analysis\n",
        "sns.barplot(df.Year,df.Low)"
      ],
      "execution_count": 50,
      "outputs": [
        {
          "output_type": "stream",
          "text": [
            "/usr/local/lib/python3.7/dist-packages/seaborn/_decorators.py:43: FutureWarning: Pass the following variables as keyword args: x, y. From version 0.12, the only valid positional argument will be `data`, and passing other arguments without an explicit keyword will result in an error or misinterpretation.\n",
            "  FutureWarning\n"
          ],
          "name": "stderr"
        },
        {
          "output_type": "execute_result",
          "data": {
            "text/plain": [
              "<matplotlib.axes._subplots.AxesSubplot at 0x7f7aae777250>"
            ]
          },
          "metadata": {
            "tags": []
          },
          "execution_count": 50
        },
        {
          "output_type": "display_data",
          "data": {
            "image/png": "[encoded data removed]",
            "text/plain": [
              "<Figure size 432x288 with 1 Axes>"
            ]
          },
          "metadata": {
            "tags": []
          }
        }
      ]
    },
    {
      "cell_type": "markdown",
      "metadata": {
        "id": "ZUabkMeTO7x3"
      },
      "source": [
        "#RESULTS"
      ]
    },
    {
      "cell_type": "markdown",
      "metadata": {
        "id": "71EU0GnMqgfQ"
      },
      "source": [
        "Questions that came during analysis\n",
        "\n",
        "1. which is the most trading day?\n",
        "2. which month we had seen trading all time high?\n",
        "3. what is the trend of trading year over year?\n",
        "2. what is the highest and lowest turnover?\n",
        "3. highest and lowest volume days?\n"
      ]
    },
    {
      "cell_type": "markdown",
      "metadata": {
        "id": "WWzn_AFrkXuE"
      },
      "source": [
        "SUMMARY AND CONCLUSION\n",
        "\n",
        "Insights:\n",
        "\n",
        "*   The days when volume was greater than 10,00,000 on basis of everdays volume is 20.27%.\n",
        "*   The days when volume was less than 10,000 on basis of everdays volume is 19.96%.\n",
        "*   The days when No. of trades was greater than 70,000 on basis of everdays is 15.79%.\n",
        "*   The days when No. of trades was less than 10,000 on basis of everdays is 16.09%.\n",
        "*   Usually after analysis we can say most trading days are from monday to friday. There is usually less or no to trading on saturdays and sundays.\n",
        "*   We have seen the most trading month after the analysis is almost equal for all months or we can say that small difference will be there.\n",
        "*   Talking about the trend of trading on basis of years, we can say that it has only increasd and for till now with analysis we can say that 2021 year is the most trading year.\n",
        "*   Highest turnover of the company = 351347.0\n",
        "*   Lowest turnover of the company = 70.0\n",
        "*  Talking about volume, company has as increasd it year over year and from analysis we can say 2020 has the most of it.\n",
        "*   All months are mostly happening month for volumes of the company.\n",
        "*   Highest opening price and lowest opening price of the year was 2012.\n",
        "\n",
        "\n",
        "\n",
        "\n",
        "\n",
        "\n",
        "\n",
        "\n",
        "\n",
        "\n",
        "\n",
        "\n",
        "\n",
        "\n"
      ]
    },
    {
      "cell_type": "code",
      "metadata": {
        "id": "BL8IWTdDkXOC"
      },
      "source": [
        ""
      ],
      "execution_count": null,
      "outputs": []
    },
    {
      "cell_type": "code",
      "metadata": {
        "id": "cZwaJYXCFWWP"
      },
      "source": [
        ""
      ],
      "execution_count": null,
      "outputs": []
    }
  ]
}