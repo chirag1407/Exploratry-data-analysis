{
  "nbformat": 4,
  "nbformat_minor": 0,
  "metadata": {
    "kernelspec": {
      "language": "python",
      "display_name": "Python 3",
      "name": "python3"
    },
    "language_info": {
      "name": "python",
      "version": "3.7.9",
      "mimetype": "text/x-python",
      "codemirror_mode": {
        "name": "ipython",
        "version": 3
      },
      "pygments_lexer": "ipython3",
      "nbconvert_exporter": "python",
      "file_extension": ".py"
    },
    "colab": {
      "name": "AXISBANK.ipynb",
      "provenance": []
    }
  },
  "cells": [
    {
      "cell_type": "markdown",
      "metadata": {
        "id": "kTVNlVq0H1nb"
      },
      "source": [
        "#Exploratry data analysis on ADANIPORTS  datasets\n",
        "\n",
        "\n",
        "TODO- To talk about the dataset and EDA\n",
        "      source-kaggle.\n",
        "      \n",
        "      Information about adaniports stock data\n"
      ]
    },
    {
      "cell_type": "code",
      "metadata": {
        "id": "1-OWnmUCH1ne",
        "trusted": true
      },
      "source": [
        "!pip install opendatasets --upgrade --quiet"
      ],
      "execution_count": 1,
      "outputs": []
    },
    {
      "cell_type": "code",
      "metadata": {
        "colab": {
          "base_uri": "https://localhost:8080/"
        },
        "id": "GepS3jAtNew8",
        "outputId": "b89ae46e-d0b9-40c7-fd8f-9c2c6a2533e2"
      },
      "source": [
        "import opendatasets as od\n",
        "\n",
        "download_url = 'https://www.kaggle.com/rohanrao/nifty50-stock-market-data'\n",
        "\n",
        "od.download(download_url)"
      ],
      "execution_count": 2,
      "outputs": [
        {
          "output_type": "stream",
          "text": [
            "Please provide your Kaggle credentials to download this dataset. Learn more: http://bit.ly/kaggle-creds\n",
            "Your Kaggle username: chiragkumarprajapat\n",
            "Your Kaggle Key: ··········\n"
          ],
          "name": "stdout"
        },
        {
          "output_type": "stream",
          "text": [
            " 33%|███▎      | 6.00M/18.4M [00:00<00:00, 58.3MB/s]"
          ],
          "name": "stderr"
        },
        {
          "output_type": "stream",
          "text": [
            "Downloading nifty50-stock-market-data.zip to ./nifty50-stock-market-data\n"
          ],
          "name": "stdout"
        },
        {
          "output_type": "stream",
          "text": [
            "100%|██████████| 18.4M/18.4M [00:00<00:00, 42.5MB/s]\n"
          ],
          "name": "stderr"
        },
        {
          "output_type": "stream",
          "text": [
            "\n"
          ],
          "name": "stdout"
        }
      ]
    },
    {
      "cell_type": "code",
      "metadata": {
        "id": "l52UQ6-dNiFR"
      },
      "source": [
        "data_file=\"./nifty50-stock-market-data/AXISBANK.csv\""
      ],
      "execution_count": 51,
      "outputs": []
    },
    {
      "cell_type": "markdown",
      "metadata": {
        "id": "w2GcOmguJ58B"
      },
      "source": [
        "Data preparation and cleaning\n",
        "1. Loading file using pandas\n",
        "2. We will see some info about data\n",
        "3. If there any incorrect value or missing value will fix that"
      ]
    },
    {
      "cell_type": "code",
      "metadata": {
        "id": "07u4AS6iH1nf",
        "trusted": true
      },
      "source": [
        "#importing libraries\n",
        "import pandas as pd\n"
      ],
      "execution_count": 52,
      "outputs": []
    },
    {
      "cell_type": "code",
      "metadata": {
        "id": "_nP-Y0dmKQ1P",
        "trusted": true,
        "colab": {
          "base_uri": "https://localhost:8080/",
          "height": 407
        },
        "outputId": "9a041942-5f66-4421-ca7c-bc53e9112357"
      },
      "source": [
        "#reading the data into dataframes\n",
        "df= pd.read_csv(data_file)\n",
        "df"
      ],
      "execution_count": 53,
      "outputs": [
        {
          "output_type": "execute_result",
          "data": {
            "text/html": [
              "<div>\n",
              "<style scoped>\n",
              "    .dataframe tbody tr th:only-of-type {\n",
              "        vertical-align: middle;\n",
              "    }\n",
              "\n",
              "    .dataframe tbody tr th {\n",
              "        vertical-align: top;\n",
              "    }\n",
              "\n",
              "    .dataframe thead th {\n",
              "        text-align: right;\n",
              "    }\n",
              "</style>\n",
              "<table border=\"1\" class=\"dataframe\">\n",
              "  <thead>\n",
              "    <tr style=\"text-align: right;\">\n",
              "      <th></th>\n",
              "      <th>Date</th>\n",
              "      <th>Symbol</th>\n",
              "      <th>Series</th>\n",
              "      <th>Prev Close</th>\n",
              "      <th>Open</th>\n",
              "      <th>High</th>\n",
              "      <th>Low</th>\n",
              "      <th>Last</th>\n",
              "      <th>Close</th>\n",
              "      <th>VWAP</th>\n",
              "      <th>Volume</th>\n",
              "      <th>Turnover</th>\n",
              "      <th>Trades</th>\n",
              "      <th>Deliverable Volume</th>\n",
              "      <th>%Deliverble</th>\n",
              "    </tr>\n",
              "  </thead>\n",
              "  <tbody>\n",
              "    <tr>\n",
              "      <th>0</th>\n",
              "      <td>2000-01-03</td>\n",
              "      <td>UTIBANK</td>\n",
              "      <td>EQ</td>\n",
              "      <td>24.70</td>\n",
              "      <td>26.7</td>\n",
              "      <td>26.70</td>\n",
              "      <td>26.70</td>\n",
              "      <td>26.70</td>\n",
              "      <td>26.70</td>\n",
              "      <td>26.70</td>\n",
              "      <td>112100</td>\n",
              "      <td>2.993070e+11</td>\n",
              "      <td>NaN</td>\n",
              "      <td>NaN</td>\n",
              "      <td>NaN</td>\n",
              "    </tr>\n",
              "    <tr>\n",
              "      <th>1</th>\n",
              "      <td>2000-01-04</td>\n",
              "      <td>UTIBANK</td>\n",
              "      <td>EQ</td>\n",
              "      <td>26.70</td>\n",
              "      <td>27.0</td>\n",
              "      <td>28.70</td>\n",
              "      <td>26.50</td>\n",
              "      <td>27.00</td>\n",
              "      <td>26.85</td>\n",
              "      <td>27.24</td>\n",
              "      <td>234500</td>\n",
              "      <td>6.387275e+11</td>\n",
              "      <td>NaN</td>\n",
              "      <td>NaN</td>\n",
              "      <td>NaN</td>\n",
              "    </tr>\n",
              "    <tr>\n",
              "      <th>2</th>\n",
              "      <td>2000-01-05</td>\n",
              "      <td>UTIBANK</td>\n",
              "      <td>EQ</td>\n",
              "      <td>26.85</td>\n",
              "      <td>26.0</td>\n",
              "      <td>27.75</td>\n",
              "      <td>25.50</td>\n",
              "      <td>26.40</td>\n",
              "      <td>26.30</td>\n",
              "      <td>26.24</td>\n",
              "      <td>170100</td>\n",
              "      <td>4.462980e+11</td>\n",
              "      <td>NaN</td>\n",
              "      <td>NaN</td>\n",
              "      <td>NaN</td>\n",
              "    </tr>\n",
              "    <tr>\n",
              "      <th>3</th>\n",
              "      <td>2000-01-06</td>\n",
              "      <td>UTIBANK</td>\n",
              "      <td>EQ</td>\n",
              "      <td>26.30</td>\n",
              "      <td>25.8</td>\n",
              "      <td>27.00</td>\n",
              "      <td>25.80</td>\n",
              "      <td>25.90</td>\n",
              "      <td>25.95</td>\n",
              "      <td>26.27</td>\n",
              "      <td>102100</td>\n",
              "      <td>2.681730e+11</td>\n",
              "      <td>NaN</td>\n",
              "      <td>NaN</td>\n",
              "      <td>NaN</td>\n",
              "    </tr>\n",
              "    <tr>\n",
              "      <th>4</th>\n",
              "      <td>2000-01-07</td>\n",
              "      <td>UTIBANK</td>\n",
              "      <td>EQ</td>\n",
              "      <td>25.95</td>\n",
              "      <td>25.0</td>\n",
              "      <td>26.00</td>\n",
              "      <td>24.25</td>\n",
              "      <td>25.00</td>\n",
              "      <td>24.80</td>\n",
              "      <td>25.04</td>\n",
              "      <td>62600</td>\n",
              "      <td>1.567220e+11</td>\n",
              "      <td>NaN</td>\n",
              "      <td>NaN</td>\n",
              "      <td>NaN</td>\n",
              "    </tr>\n",
              "    <tr>\n",
              "      <th>...</th>\n",
              "      <td>...</td>\n",
              "      <td>...</td>\n",
              "      <td>...</td>\n",
              "      <td>...</td>\n",
              "      <td>...</td>\n",
              "      <td>...</td>\n",
              "      <td>...</td>\n",
              "      <td>...</td>\n",
              "      <td>...</td>\n",
              "      <td>...</td>\n",
              "      <td>...</td>\n",
              "      <td>...</td>\n",
              "      <td>...</td>\n",
              "      <td>...</td>\n",
              "      <td>...</td>\n",
              "    </tr>\n",
              "    <tr>\n",
              "      <th>5301</th>\n",
              "      <td>2021-04-26</td>\n",
              "      <td>AXISBANK</td>\n",
              "      <td>EQ</td>\n",
              "      <td>671.35</td>\n",
              "      <td>694.0</td>\n",
              "      <td>703.80</td>\n",
              "      <td>684.50</td>\n",
              "      <td>699.50</td>\n",
              "      <td>700.45</td>\n",
              "      <td>695.33</td>\n",
              "      <td>21646184</td>\n",
              "      <td>1.505120e+15</td>\n",
              "      <td>286480.0</td>\n",
              "      <td>5949937.0</td>\n",
              "      <td>0.2749</td>\n",
              "    </tr>\n",
              "    <tr>\n",
              "      <th>5302</th>\n",
              "      <td>2021-04-27</td>\n",
              "      <td>AXISBANK</td>\n",
              "      <td>EQ</td>\n",
              "      <td>700.45</td>\n",
              "      <td>691.1</td>\n",
              "      <td>703.90</td>\n",
              "      <td>684.10</td>\n",
              "      <td>700.90</td>\n",
              "      <td>699.55</td>\n",
              "      <td>692.83</td>\n",
              "      <td>46559967</td>\n",
              "      <td>3.225830e+15</td>\n",
              "      <td>289445.0</td>\n",
              "      <td>18080082.0</td>\n",
              "      <td>0.3883</td>\n",
              "    </tr>\n",
              "    <tr>\n",
              "      <th>5303</th>\n",
              "      <td>2021-04-28</td>\n",
              "      <td>AXISBANK</td>\n",
              "      <td>EQ</td>\n",
              "      <td>699.55</td>\n",
              "      <td>708.0</td>\n",
              "      <td>712.50</td>\n",
              "      <td>688.15</td>\n",
              "      <td>705.95</td>\n",
              "      <td>708.15</td>\n",
              "      <td>701.92</td>\n",
              "      <td>54060587</td>\n",
              "      <td>3.794635e+15</td>\n",
              "      <td>507747.0</td>\n",
              "      <td>17851331.0</td>\n",
              "      <td>0.3302</td>\n",
              "    </tr>\n",
              "    <tr>\n",
              "      <th>5304</th>\n",
              "      <td>2021-04-29</td>\n",
              "      <td>AXISBANK</td>\n",
              "      <td>EQ</td>\n",
              "      <td>708.15</td>\n",
              "      <td>712.0</td>\n",
              "      <td>726.90</td>\n",
              "      <td>707.00</td>\n",
              "      <td>717.10</td>\n",
              "      <td>719.40</td>\n",
              "      <td>717.41</td>\n",
              "      <td>25939327</td>\n",
              "      <td>1.860920e+15</td>\n",
              "      <td>312079.0</td>\n",
              "      <td>7357520.0</td>\n",
              "      <td>0.2836</td>\n",
              "    </tr>\n",
              "    <tr>\n",
              "      <th>5305</th>\n",
              "      <td>2021-04-30</td>\n",
              "      <td>AXISBANK</td>\n",
              "      <td>EQ</td>\n",
              "      <td>719.40</td>\n",
              "      <td>705.0</td>\n",
              "      <td>729.85</td>\n",
              "      <td>705.00</td>\n",
              "      <td>711.65</td>\n",
              "      <td>714.90</td>\n",
              "      <td>719.36</td>\n",
              "      <td>23011654</td>\n",
              "      <td>1.655365e+15</td>\n",
              "      <td>232879.0</td>\n",
              "      <td>6786072.0</td>\n",
              "      <td>0.2949</td>\n",
              "    </tr>\n",
              "  </tbody>\n",
              "</table>\n",
              "<p>5306 rows × 15 columns</p>\n",
              "</div>"
            ],
            "text/plain": [
              "            Date    Symbol Series  ...    Trades  Deliverable Volume  %Deliverble\n",
              "0     2000-01-03   UTIBANK     EQ  ...       NaN                 NaN          NaN\n",
              "1     2000-01-04   UTIBANK     EQ  ...       NaN                 NaN          NaN\n",
              "2     2000-01-05   UTIBANK     EQ  ...       NaN                 NaN          NaN\n",
              "3     2000-01-06   UTIBANK     EQ  ...       NaN                 NaN          NaN\n",
              "4     2000-01-07   UTIBANK     EQ  ...       NaN                 NaN          NaN\n",
              "...          ...       ...    ...  ...       ...                 ...          ...\n",
              "5301  2021-04-26  AXISBANK     EQ  ...  286480.0           5949937.0       0.2749\n",
              "5302  2021-04-27  AXISBANK     EQ  ...  289445.0          18080082.0       0.3883\n",
              "5303  2021-04-28  AXISBANK     EQ  ...  507747.0          17851331.0       0.3302\n",
              "5304  2021-04-29  AXISBANK     EQ  ...  312079.0           7357520.0       0.2836\n",
              "5305  2021-04-30  AXISBANK     EQ  ...  232879.0           6786072.0       0.2949\n",
              "\n",
              "[5306 rows x 15 columns]"
            ]
          },
          "metadata": {
            "tags": []
          },
          "execution_count": 53
        }
      ]
    },
    {
      "cell_type": "code",
      "metadata": {
        "id": "ENjHZ90ZKXgf",
        "trusted": true,
        "colab": {
          "base_uri": "https://localhost:8080/"
        },
        "outputId": "42bbbe75-4911-4df4-f0d0-e718645951fc"
      },
      "source": [
        "#columns on which we are working in\n",
        "df.columns"
      ],
      "execution_count": 54,
      "outputs": [
        {
          "output_type": "execute_result",
          "data": {
            "text/plain": [
              "Index(['Date', 'Symbol', 'Series', 'Prev Close', 'Open', 'High', 'Low', 'Last',\n",
              "       'Close', 'VWAP', 'Volume', 'Turnover', 'Trades', 'Deliverable Volume',\n",
              "       '%Deliverble'],\n",
              "      dtype='object')"
            ]
          },
          "metadata": {
            "tags": []
          },
          "execution_count": 54
        }
      ]
    },
    {
      "cell_type": "code",
      "metadata": {
        "id": "kiTV2TByK3xz",
        "trusted": true,
        "colab": {
          "base_uri": "https://localhost:8080/"
        },
        "outputId": "50db92fe-05a5-43c0-9889-357d05b9af40"
      },
      "source": [
        "#some more information about data\n",
        "df.info()"
      ],
      "execution_count": 55,
      "outputs": [
        {
          "output_type": "stream",
          "text": [
            "<class 'pandas.core.frame.DataFrame'>\n",
            "RangeIndex: 5306 entries, 0 to 5305\n",
            "Data columns (total 15 columns):\n",
            " #   Column              Non-Null Count  Dtype  \n",
            "---  ------              --------------  -----  \n",
            " 0   Date                5306 non-null   object \n",
            " 1   Symbol              5306 non-null   object \n",
            " 2   Series              5306 non-null   object \n",
            " 3   Prev Close          5306 non-null   float64\n",
            " 4   Open                5306 non-null   float64\n",
            " 5   High                5306 non-null   float64\n",
            " 6   Low                 5306 non-null   float64\n",
            " 7   Last                5306 non-null   float64\n",
            " 8   Close               5306 non-null   float64\n",
            " 9   VWAP                5306 non-null   float64\n",
            " 10  Volume              5306 non-null   int64  \n",
            " 11  Turnover            5306 non-null   float64\n",
            " 12  Trades              2456 non-null   float64\n",
            " 13  Deliverable Volume  4797 non-null   float64\n",
            " 14  %Deliverble         4797 non-null   float64\n",
            "dtypes: float64(11), int64(1), object(3)\n",
            "memory usage: 621.9+ KB\n"
          ],
          "name": "stdout"
        }
      ]
    },
    {
      "cell_type": "code",
      "metadata": {
        "id": "lJgt0fSKLG0N",
        "trusted": true,
        "colab": {
          "base_uri": "https://localhost:8080/",
          "height": 288
        },
        "outputId": "b709b609-edcd-44c9-ecfe-db0cdc6e4dc8"
      },
      "source": [
        "#through this command we can see the mean, max, min and other details\n",
        "df.describe()"
      ],
      "execution_count": 56,
      "outputs": [
        {
          "output_type": "execute_result",
          "data": {
            "text/html": [
              "<div>\n",
              "<style scoped>\n",
              "    .dataframe tbody tr th:only-of-type {\n",
              "        vertical-align: middle;\n",
              "    }\n",
              "\n",
              "    .dataframe tbody tr th {\n",
              "        vertical-align: top;\n",
              "    }\n",
              "\n",
              "    .dataframe thead th {\n",
              "        text-align: right;\n",
              "    }\n",
              "</style>\n",
              "<table border=\"1\" class=\"dataframe\">\n",
              "  <thead>\n",
              "    <tr style=\"text-align: right;\">\n",
              "      <th></th>\n",
              "      <th>Prev Close</th>\n",
              "      <th>Open</th>\n",
              "      <th>High</th>\n",
              "      <th>Low</th>\n",
              "      <th>Last</th>\n",
              "      <th>Close</th>\n",
              "      <th>VWAP</th>\n",
              "      <th>Volume</th>\n",
              "      <th>Turnover</th>\n",
              "      <th>Trades</th>\n",
              "      <th>Deliverable Volume</th>\n",
              "      <th>%Deliverble</th>\n",
              "    </tr>\n",
              "  </thead>\n",
              "  <tbody>\n",
              "    <tr>\n",
              "      <th>count</th>\n",
              "      <td>5306.000000</td>\n",
              "      <td>5306.000000</td>\n",
              "      <td>5306.000000</td>\n",
              "      <td>5306.000000</td>\n",
              "      <td>5306.000000</td>\n",
              "      <td>5306.000000</td>\n",
              "      <td>5306.000000</td>\n",
              "      <td>5.306000e+03</td>\n",
              "      <td>5.306000e+03</td>\n",
              "      <td>2456.000000</td>\n",
              "      <td>4.797000e+03</td>\n",
              "      <td>4797.000000</td>\n",
              "    </tr>\n",
              "    <tr>\n",
              "      <th>mean</th>\n",
              "      <td>585.763852</td>\n",
              "      <td>586.507388</td>\n",
              "      <td>596.476187</td>\n",
              "      <td>575.571598</td>\n",
              "      <td>585.897399</td>\n",
              "      <td>585.893931</td>\n",
              "      <td>586.077778</td>\n",
              "      <td>4.527938e+06</td>\n",
              "      <td>2.739871e+14</td>\n",
              "      <td>120602.231678</td>\n",
              "      <td>1.990907e+06</td>\n",
              "      <td>0.466962</td>\n",
              "    </tr>\n",
              "    <tr>\n",
              "      <th>std</th>\n",
              "      <td>436.714128</td>\n",
              "      <td>436.602194</td>\n",
              "      <td>443.044833</td>\n",
              "      <td>430.108921</td>\n",
              "      <td>436.609147</td>\n",
              "      <td>436.649765</td>\n",
              "      <td>436.611987</td>\n",
              "      <td>8.101940e+06</td>\n",
              "      <td>4.122431e+14</td>\n",
              "      <td>96106.654046</td>\n",
              "      <td>3.264587e+06</td>\n",
              "      <td>0.161808</td>\n",
              "    </tr>\n",
              "    <tr>\n",
              "      <th>min</th>\n",
              "      <td>22.150000</td>\n",
              "      <td>21.000000</td>\n",
              "      <td>23.700000</td>\n",
              "      <td>21.000000</td>\n",
              "      <td>22.150000</td>\n",
              "      <td>22.150000</td>\n",
              "      <td>22.170000</td>\n",
              "      <td>2.850000e+03</td>\n",
              "      <td>8.275250e+09</td>\n",
              "      <td>2698.000000</td>\n",
              "      <td>5.809000e+03</td>\n",
              "      <td>0.075000</td>\n",
              "    </tr>\n",
              "    <tr>\n",
              "      <th>25%</th>\n",
              "      <td>230.950000</td>\n",
              "      <td>232.000000</td>\n",
              "      <td>235.125000</td>\n",
              "      <td>227.075000</td>\n",
              "      <td>230.550000</td>\n",
              "      <td>230.975000</td>\n",
              "      <td>231.115000</td>\n",
              "      <td>2.842172e+05</td>\n",
              "      <td>5.868745e+12</td>\n",
              "      <td>62228.250000</td>\n",
              "      <td>2.573130e+05</td>\n",
              "      <td>0.347500</td>\n",
              "    </tr>\n",
              "    <tr>\n",
              "      <th>50%</th>\n",
              "      <td>519.450000</td>\n",
              "      <td>520.100000</td>\n",
              "      <td>528.400000</td>\n",
              "      <td>512.025000</td>\n",
              "      <td>519.425000</td>\n",
              "      <td>519.500000</td>\n",
              "      <td>519.505000</td>\n",
              "      <td>1.656966e+06</td>\n",
              "      <td>1.653257e+14</td>\n",
              "      <td>93186.500000</td>\n",
              "      <td>7.687680e+05</td>\n",
              "      <td>0.459800</td>\n",
              "    </tr>\n",
              "    <tr>\n",
              "      <th>75%</th>\n",
              "      <td>877.312500</td>\n",
              "      <td>880.075000</td>\n",
              "      <td>897.987500</td>\n",
              "      <td>852.762500</td>\n",
              "      <td>877.275000</td>\n",
              "      <td>877.312500</td>\n",
              "      <td>875.807500</td>\n",
              "      <td>5.515245e+06</td>\n",
              "      <td>3.456528e+14</td>\n",
              "      <td>144973.250000</td>\n",
              "      <td>2.652520e+06</td>\n",
              "      <td>0.573900</td>\n",
              "    </tr>\n",
              "    <tr>\n",
              "      <th>max</th>\n",
              "      <td>2023.350000</td>\n",
              "      <td>2034.400000</td>\n",
              "      <td>2043.050000</td>\n",
              "      <td>2002.600000</td>\n",
              "      <td>2022.550000</td>\n",
              "      <td>2023.350000</td>\n",
              "      <td>2020.310000</td>\n",
              "      <td>1.205419e+08</td>\n",
              "      <td>7.179550e+15</td>\n",
              "      <td>990737.000000</td>\n",
              "      <td>9.490116e+07</td>\n",
              "      <td>0.983000</td>\n",
              "    </tr>\n",
              "  </tbody>\n",
              "</table>\n",
              "</div>"
            ],
            "text/plain": [
              "        Prev Close         Open  ...  Deliverable Volume  %Deliverble\n",
              "count  5306.000000  5306.000000  ...        4.797000e+03  4797.000000\n",
              "mean    585.763852   586.507388  ...        1.990907e+06     0.466962\n",
              "std     436.714128   436.602194  ...        3.264587e+06     0.161808\n",
              "min      22.150000    21.000000  ...        5.809000e+03     0.075000\n",
              "25%     230.950000   232.000000  ...        2.573130e+05     0.347500\n",
              "50%     519.450000   520.100000  ...        7.687680e+05     0.459800\n",
              "75%     877.312500   880.075000  ...        2.652520e+06     0.573900\n",
              "max    2023.350000  2034.400000  ...        9.490116e+07     0.983000\n",
              "\n",
              "[8 rows x 12 columns]"
            ]
          },
          "metadata": {
            "tags": []
          },
          "execution_count": 56
        }
      ]
    },
    {
      "cell_type": "markdown",
      "metadata": {
        "id": "grArSiv1L57v"
      },
      "source": [
        ""
      ]
    },
    {
      "cell_type": "code",
      "metadata": {
        "id": "6FVCy4WOLcjg",
        "trusted": true,
        "colab": {
          "base_uri": "https://localhost:8080/"
        },
        "outputId": "f4c73ace-83dd-4b01-df8f-b2791d99116d"
      },
      "source": [
        "numerical_datatype=['int16','int32','int64','float16','float32','float64']\n",
        "numeric_df = df.select_dtypes(include=numerical_datatype)\n",
        "len(numeric_df.columns)"
      ],
      "execution_count": 57,
      "outputs": [
        {
          "output_type": "execute_result",
          "data": {
            "text/plain": [
              "12"
            ]
          },
          "metadata": {
            "tags": []
          },
          "execution_count": 57
        }
      ]
    },
    {
      "cell_type": "markdown",
      "metadata": {
        "id": "lNJTU3IEN0kZ"
      },
      "source": [
        "Percentage of missing values in data\n"
      ]
    },
    {
      "cell_type": "code",
      "metadata": {
        "id": "8dGBpnzzM6pJ",
        "trusted": true,
        "colab": {
          "base_uri": "https://localhost:8080/"
        },
        "outputId": "f1dacbe7-85cd-4595-84a8-a6b6ccd80034"
      },
      "source": [
        "#searching for missing value in percentage\n",
        "missing_percentage=df.isnull().sum().sort_values(ascending=False)/len(df)\n",
        "missing_percentage"
      ],
      "execution_count": 58,
      "outputs": [
        {
          "output_type": "execute_result",
          "data": {
            "text/plain": [
              "Trades                0.537128\n",
              "%Deliverble           0.095929\n",
              "Deliverable Volume    0.095929\n",
              "Turnover              0.000000\n",
              "Volume                0.000000\n",
              "VWAP                  0.000000\n",
              "Close                 0.000000\n",
              "Last                  0.000000\n",
              "Low                   0.000000\n",
              "High                  0.000000\n",
              "Open                  0.000000\n",
              "Prev Close            0.000000\n",
              "Series                0.000000\n",
              "Symbol                0.000000\n",
              "Date                  0.000000\n",
              "dtype: float64"
            ]
          },
          "metadata": {
            "tags": []
          },
          "execution_count": 58
        }
      ]
    },
    {
      "cell_type": "code",
      "metadata": {
        "id": "qxxyVMfoNJXd",
        "trusted": true,
        "colab": {
          "base_uri": "https://localhost:8080/",
          "height": 371
        },
        "outputId": "4325e360-76f7-4f0b-8d45-7fdb348f61e7"
      },
      "source": [
        "#missing value percentage using barchart\n",
        "missing_percentage.plot(kind='bar')"
      ],
      "execution_count": 59,
      "outputs": [
        {
          "output_type": "execute_result",
          "data": {
            "text/plain": [
              "<matplotlib.axes._subplots.AxesSubplot at 0x7f7aae674250>"
            ]
          },
          "metadata": {
            "tags": []
          },
          "execution_count": 59
        },
        {
          "output_type": "display_data",
          "data": {
            "image/png": "[encoded data removed]",
            "text/plain": [
              "<Figure size 432x288 with 1 Axes>"
            ]
          },
          "metadata": {
            "tags": []
          }
        }
      ]
    },
    {
      "cell_type": "markdown",
      "metadata": {
        "id": "fDKDvEOrPBor"
      },
      "source": [
        "EXPLORATRY ANALYSIS AND VISUALIZATION\n",
        "\n",
        "Columns which are going to be analyzed:\n",
        "1. Volume\n",
        "2. Trades\n",
        "3. Turnover\n",
        "4. Date for analysing over year analysis\n",
        "5. High and Low\n"
      ]
    },
    {
      "cell_type": "code",
      "metadata": {
        "id": "Pu7SSn8CO7Cy",
        "trusted": true,
        "colab": {
          "base_uri": "https://localhost:8080/"
        },
        "outputId": "47c6850e-e4c2-46a5-bbc7-29c126ec1d55"
      },
      "source": [
        "df.columns"
      ],
      "execution_count": 60,
      "outputs": [
        {
          "output_type": "execute_result",
          "data": {
            "text/plain": [
              "Index(['Date', 'Symbol', 'Series', 'Prev Close', 'Open', 'High', 'Low', 'Last',\n",
              "       'Close', 'VWAP', 'Volume', 'Turnover', 'Trades', 'Deliverable Volume',\n",
              "       '%Deliverble'],\n",
              "      dtype='object')"
            ]
          },
          "metadata": {
            "tags": []
          },
          "execution_count": 60
        }
      ]
    },
    {
      "cell_type": "code",
      "metadata": {
        "id": "yY6XnGfwPnrm",
        "trusted": true,
        "colab": {
          "base_uri": "https://localhost:8080/"
        },
        "outputId": "d9eeeffb-8afe-4704-e0ba-56989d0b1e6c"
      },
      "source": [
        "a=df.Series.unique()\n",
        "len(a)"
      ],
      "execution_count": 61,
      "outputs": [
        {
          "output_type": "execute_result",
          "data": {
            "text/plain": [
              "1"
            ]
          },
          "metadata": {
            "tags": []
          },
          "execution_count": 61
        }
      ]
    },
    {
      "cell_type": "markdown",
      "metadata": {
        "id": "MqtpIpchm_tV"
      },
      "source": [
        "#Volume"
      ]
    },
    {
      "cell_type": "code",
      "metadata": {
        "id": "YnoXIfxPcpij",
        "trusted": true
      },
      "source": [
        "#importing seaborn libaray for better visualization of data\n",
        "import seaborn as sns\n",
        "sns.set_style(\"darkgrid\")"
      ],
      "execution_count": 62,
      "outputs": []
    },
    {
      "cell_type": "code",
      "metadata": {
        "id": "Exvo1OrxiSux",
        "trusted": true,
        "colab": {
          "base_uri": "https://localhost:8080/",
          "height": 301
        },
        "outputId": "ef9e8d02-2067-4515-9a41-91c54bd161c5"
      },
      "source": [
        "#volume column histogram represents most of the volume of comapny is between 10^4 to 10^7\n",
        "sns.histplot(df.Volume, log_scale=True)"
      ],
      "execution_count": 63,
      "outputs": [
        {
          "output_type": "execute_result",
          "data": {
            "text/plain": [
              "<matplotlib.axes._subplots.AxesSubplot at 0x7f7aae5640d0>"
            ]
          },
          "metadata": {
            "tags": []
          },
          "execution_count": 63
        },
        {
          "output_type": "display_data",
          "data": {
            "image/png": "[encoded data removed]",
            "text/plain": [
              "<Figure size 432x288 with 1 Axes>"
            ]
          },
          "metadata": {
            "tags": []
          }
        }
      ]
    },
    {
      "cell_type": "code",
      "metadata": {
        "id": "7Fk91su5kjS3",
        "trusted": true,
        "colab": {
          "base_uri": "https://localhost:8080/"
        },
        "outputId": "afcdf856-5c0f-401a-c71d-8cf5b29bed40"
      },
      "source": [
        "volumes=df.Volume.value_counts()\n",
        "len(volumes)"
      ],
      "execution_count": 64,
      "outputs": [
        {
          "output_type": "execute_result",
          "data": {
            "text/plain": [
              "5302"
            ]
          },
          "metadata": {
            "tags": []
          },
          "execution_count": 64
        }
      ]
    },
    {
      "cell_type": "code",
      "metadata": {
        "id": "XCFSEET4igIG",
        "trusted": true
      },
      "source": [
        "#checking for higher volumes and lower volumes that company got\n",
        "high_volume=df.Volume[df.Volume>=10000000]\n",
        "low_volume=df.Volume[df.Volume<100000]"
      ],
      "execution_count": 70,
      "outputs": []
    },
    {
      "cell_type": "code",
      "metadata": {
        "id": "mZ_38MwkjmBD",
        "trusted": true,
        "colab": {
          "base_uri": "https://localhost:8080/"
        },
        "outputId": "81a42faf-2f13-4887-92a5-27edc086e76a"
      },
      "source": [
        "len(high_volume)/len(volumes)"
      ],
      "execution_count": 71,
      "outputs": [
        {
          "output_type": "execute_result",
          "data": {
            "text/plain": [
              "0.11731422104866088"
            ]
          },
          "metadata": {
            "tags": []
          },
          "execution_count": 71
        }
      ]
    },
    {
      "cell_type": "code",
      "metadata": {
        "id": "COASPF1Bjn0b",
        "trusted": true,
        "colab": {
          "base_uri": "https://localhost:8080/"
        },
        "outputId": "667849ad-305e-4a70-882d-92cbb798f00c"
      },
      "source": [
        "len(low_volume)/len(volumes)"
      ],
      "execution_count": 72,
      "outputs": [
        {
          "output_type": "execute_result",
          "data": {
            "text/plain": [
              "0.13994718973972087"
            ]
          },
          "metadata": {
            "tags": []
          },
          "execution_count": 72
        }
      ]
    },
    {
      "cell_type": "markdown",
      "metadata": {
        "id": "IxIWZslxnE3c"
      },
      "source": [
        "#Trades"
      ]
    },
    {
      "cell_type": "code",
      "metadata": {
        "id": "FVvx9p1inEif",
        "trusted": true,
        "colab": {
          "base_uri": "https://localhost:8080/"
        },
        "outputId": "bfc04824-ebfc-4ab9-f2e8-641f7b487a9b"
      },
      "source": [
        "df.Trades.fillna(0).astype(int)"
      ],
      "execution_count": 82,
      "outputs": [
        {
          "output_type": "execute_result",
          "data": {
            "text/plain": [
              "0            0\n",
              "1            0\n",
              "2            0\n",
              "3            0\n",
              "4            0\n",
              "         ...  \n",
              "5301    286480\n",
              "5302    289445\n",
              "5303    507747\n",
              "5304    312079\n",
              "5305    232879\n",
              "Name: Trades, Length: 5306, dtype: int64"
            ]
          },
          "metadata": {
            "tags": []
          },
          "execution_count": 82
        }
      ]
    },
    {
      "cell_type": "code",
      "metadata": {
        "id": "6TUTmKyOkWmm",
        "trusted": true,
        "colab": {
          "base_uri": "https://localhost:8080/",
          "height": 305
        },
        "outputId": "e5877845-984c-4769-bb94-3f75ef884120"
      },
      "source": [
        "#Trades column histogram represents most of the trades of comapny is between 10^4 to 10^6\n",
        "sns.histplot(df.Trades, log_scale=True)\n"
      ],
      "execution_count": 85,
      "outputs": [
        {
          "output_type": "execute_result",
          "data": {
            "text/plain": [
              "<matplotlib.axes._subplots.AxesSubplot at 0x7f7aae039950>"
            ]
          },
          "metadata": {
            "tags": []
          },
          "execution_count": 85
        },
        {
          "output_type": "display_data",
          "data": {
            "image/png": "[encoded data removed]",
            "text/plain": [
              "<Figure size 432x288 with 1 Axes>"
            ]
          },
          "metadata": {
            "tags": []
          }
        }
      ]
    },
    {
      "cell_type": "code",
      "metadata": {
        "id": "WCqiN6q-kWo-",
        "trusted": true,
        "colab": {
          "base_uri": "https://localhost:8080/"
        },
        "outputId": "e1576bc9-2563-4ba5-ff36-3b65b40346ef"
      },
      "source": [
        "Trades_count=df.Trades.value_counts()\n",
        "len(Trades_count)"
      ],
      "execution_count": 86,
      "outputs": [
        {
          "output_type": "execute_result",
          "data": {
            "text/plain": [
              "2443"
            ]
          },
          "metadata": {
            "tags": []
          },
          "execution_count": 86
        }
      ]
    },
    {
      "cell_type": "code",
      "metadata": {
        "id": "E9sWkQYQkWrH",
        "trusted": true
      },
      "source": [
        "high_trades=df.Trades[df.Trades>=700000]\n",
        "low_trades=df.Trades[df.Trades<10000]"
      ],
      "execution_count": 87,
      "outputs": []
    },
    {
      "cell_type": "code",
      "metadata": {
        "id": "wikbSoUpuWfq",
        "trusted": true,
        "colab": {
          "base_uri": "https://localhost:8080/"
        },
        "outputId": "2bb9affd-3395-4fd3-ae99-20d16becdfbf"
      },
      "source": [
        "len(high_trades)/len(Trades_count)"
      ],
      "execution_count": 88,
      "outputs": [
        {
          "output_type": "execute_result",
          "data": {
            "text/plain": [
              "0.003274662300450266"
            ]
          },
          "metadata": {
            "tags": []
          },
          "execution_count": 88
        }
      ]
    },
    {
      "cell_type": "code",
      "metadata": {
        "id": "uRsj1lnYuWcd",
        "trusted": true,
        "colab": {
          "base_uri": "https://localhost:8080/"
        },
        "outputId": "93d1ce2e-0dab-40e4-eef3-6bf3bd43fa48"
      },
      "source": [
        "len(low_trades)/len(Trades_count)"
      ],
      "execution_count": 89,
      "outputs": [
        {
          "output_type": "execute_result",
          "data": {
            "text/plain": [
              "0.0028653295128939827"
            ]
          },
          "metadata": {
            "tags": []
          },
          "execution_count": 89
        }
      ]
    },
    {
      "cell_type": "markdown",
      "metadata": {
        "id": "1NcwoA3NuRUD"
      },
      "source": [
        "#TURNOVER"
      ]
    },
    {
      "cell_type": "code",
      "metadata": {
        "id": "SAuja0jCuPnF",
        "trusted": true,
        "colab": {
          "base_uri": "https://localhost:8080/",
          "height": 301
        },
        "outputId": "7a4f5024-54d6-4245-c835-e9e9933bca7c"
      },
      "source": [
        "#visualization of turnover of the company\n",
        "sns.histplot(df.Turnover, log_scale=True)"
      ],
      "execution_count": 90,
      "outputs": [
        {
          "output_type": "execute_result",
          "data": {
            "text/plain": [
              "<matplotlib.axes._subplots.AxesSubplot at 0x7f7aade10e10>"
            ]
          },
          "metadata": {
            "tags": []
          },
          "execution_count": 90
        },
        {
          "output_type": "display_data",
          "data": {
            "image/png": "[encoded data removed]",
            "text/plain": [
              "<Figure size 432x288 with 1 Axes>"
            ]
          },
          "metadata": {
            "tags": []
          }
        }
      ]
    },
    {
      "cell_type": "code",
      "metadata": {
        "id": "HlEUusKzuPjz",
        "trusted": true,
        "colab": {
          "base_uri": "https://localhost:8080/"
        },
        "outputId": "fe07d960-e09c-4fcd-f046-b347d94eb75c"
      },
      "source": [
        "highest_turnover=df.Trades.max()\n",
        "highest_turnover"
      ],
      "execution_count": 91,
      "outputs": [
        {
          "output_type": "execute_result",
          "data": {
            "text/plain": [
              "990737.0"
            ]
          },
          "metadata": {
            "tags": []
          },
          "execution_count": 91
        }
      ]
    },
    {
      "cell_type": "code",
      "metadata": {
        "id": "MFs4BsLKuPhz",
        "trusted": true,
        "colab": {
          "base_uri": "https://localhost:8080/"
        },
        "outputId": "1dc264c8-c076-4526-9a27-5b998c5dc1b0"
      },
      "source": [
        "lowest_turnover=df.Trades.min()\n",
        "lowest_turnover"
      ],
      "execution_count": 92,
      "outputs": [
        {
          "output_type": "execute_result",
          "data": {
            "text/plain": [
              "2698.0"
            ]
          },
          "metadata": {
            "tags": []
          },
          "execution_count": 92
        }
      ]
    },
    {
      "cell_type": "markdown",
      "metadata": {
        "id": "RJN1Mb4ZvjOx"
      },
      "source": [
        "#DATE"
      ]
    },
    {
      "cell_type": "code",
      "metadata": {
        "id": "6EA9xaaI1J21",
        "trusted": true
      },
      "source": [
        "df['Date'] = pd.to_datetime(df['Date'])\n",
        "df['Month'] = df['Date'].dt.month\n",
        "df['Year'] = df['Date'].dt.year\n",
        "df['Weekdays'] = df['Date'].dt.dayofweek\n",
        "df['Months'] = df['Date'].dt.strftime('%b')"
      ],
      "execution_count": 93,
      "outputs": []
    },
    {
      "cell_type": "code",
      "metadata": {
        "id": "3xmw9fwVkWs2",
        "trusted": true
      },
      "source": [
        "#sns.histplot(df.Months, bins=12, kde=False)"
      ],
      "execution_count": 94,
      "outputs": []
    },
    {
      "cell_type": "code",
      "metadata": {
        "id": "ihR_wuWBtk_w",
        "trusted": true,
        "colab": {
          "base_uri": "https://localhost:8080/",
          "height": 365
        },
        "outputId": "f66b786d-667d-46df-b6cf-ccb3e0f09a72"
      },
      "source": [
        "#volumes vs years chart\n",
        "sns.barplot(df.Year,df.Volume)"
      ],
      "execution_count": 95,
      "outputs": [
        {
          "output_type": "stream",
          "text": [
            "/usr/local/lib/python3.7/dist-packages/seaborn/_decorators.py:43: FutureWarning: Pass the following variables as keyword args: x, y. From version 0.12, the only valid positional argument will be `data`, and passing other arguments without an explicit keyword will result in an error or misinterpretation.\n",
            "  FutureWarning\n"
          ],
          "name": "stderr"
        },
        {
          "output_type": "execute_result",
          "data": {
            "text/plain": [
              "<matplotlib.axes._subplots.AxesSubplot at 0x7f7aae617790>"
            ]
          },
          "metadata": {
            "tags": []
          },
          "execution_count": 95
        },
        {
          "output_type": "display_data",
          "data": {
            "image/png": "[encoded data removed]",
            "text/plain": [
              "<Figure size 432x288 with 1 Axes>"
            ]
          },
          "metadata": {
            "tags": []
          }
        }
      ]
    },
    {
      "cell_type": "code",
      "metadata": {
        "id": "XTt_Vr90sxbI",
        "trusted": true,
        "colab": {
          "base_uri": "https://localhost:8080/",
          "height": 365
        },
        "outputId": "1b402dff-92d7-4c34-ed51-09bf30ac1b07"
      },
      "source": [
        "#volumes vs months chart\n",
        "sns.barplot(df.Months,df.Volume)"
      ],
      "execution_count": 96,
      "outputs": [
        {
          "output_type": "stream",
          "text": [
            "/usr/local/lib/python3.7/dist-packages/seaborn/_decorators.py:43: FutureWarning: Pass the following variables as keyword args: x, y. From version 0.12, the only valid positional argument will be `data`, and passing other arguments without an explicit keyword will result in an error or misinterpretation.\n",
            "  FutureWarning\n"
          ],
          "name": "stderr"
        },
        {
          "output_type": "execute_result",
          "data": {
            "text/plain": [
              "<matplotlib.axes._subplots.AxesSubplot at 0x7f7aadb08850>"
            ]
          },
          "metadata": {
            "tags": []
          },
          "execution_count": 96
        },
        {
          "output_type": "display_data",
          "data": {
            "image/png": "[encoded data removed]",
            "text/plain": [
              "<Figure size 432x288 with 1 Axes>"
            ]
          },
          "metadata": {
            "tags": []
          }
        }
      ]
    },
    {
      "cell_type": "code",
      "metadata": {
        "id": "rRuco1KVt1vM",
        "trusted": true,
        "colab": {
          "base_uri": "https://localhost:8080/",
          "height": 354
        },
        "outputId": "9d59faa2-0a68-4fa7-9d93-ac4f052a3463"
      },
      "source": [
        "#Trades vs years chart\n",
        "sns.barplot(df.Year,df.Trades)"
      ],
      "execution_count": 97,
      "outputs": [
        {
          "output_type": "stream",
          "text": [
            "/usr/local/lib/python3.7/dist-packages/seaborn/_decorators.py:43: FutureWarning: Pass the following variables as keyword args: x, y. From version 0.12, the only valid positional argument will be `data`, and passing other arguments without an explicit keyword will result in an error or misinterpretation.\n",
            "  FutureWarning\n"
          ],
          "name": "stderr"
        },
        {
          "output_type": "execute_result",
          "data": {
            "text/plain": [
              "<matplotlib.axes._subplots.AxesSubplot at 0x7f7aade10450>"
            ]
          },
          "metadata": {
            "tags": []
          },
          "execution_count": 97
        },
        {
          "output_type": "display_data",
          "data": {
            "image/png": "[encoded data removed]",
            "text/plain": [
              "<Figure size 432x288 with 1 Axes>"
            ]
          },
          "metadata": {
            "tags": []
          }
        }
      ]
    },
    {
      "cell_type": "code",
      "metadata": {
        "id": "CQoqMRq2sWVS",
        "trusted": true,
        "colab": {
          "base_uri": "https://localhost:8080/",
          "height": 354
        },
        "outputId": "33b322ff-e1a3-4e32-8bc7-fea0bf7fc108"
      },
      "source": [
        "#Trades vs months chart\n",
        "sns.barplot(df.Months,df.Trades)"
      ],
      "execution_count": 98,
      "outputs": [
        {
          "output_type": "stream",
          "text": [
            "/usr/local/lib/python3.7/dist-packages/seaborn/_decorators.py:43: FutureWarning: Pass the following variables as keyword args: x, y. From version 0.12, the only valid positional argument will be `data`, and passing other arguments without an explicit keyword will result in an error or misinterpretation.\n",
            "  FutureWarning\n"
          ],
          "name": "stderr"
        },
        {
          "output_type": "execute_result",
          "data": {
            "text/plain": [
              "<matplotlib.axes._subplots.AxesSubplot at 0x7f7aae314710>"
            ]
          },
          "metadata": {
            "tags": []
          },
          "execution_count": 98
        },
        {
          "output_type": "display_data",
          "data": {
            "image/png": "[encoded data removed]",
            "text/plain": [
              "<Figure size 432x288 with 1 Axes>"
            ]
          },
          "metadata": {
            "tags": []
          }
        }
      ]
    },
    {
      "cell_type": "code",
      "metadata": {
        "id": "MsuU5F_O7hTy",
        "trusted": true,
        "colab": {
          "base_uri": "https://localhost:8080/",
          "height": 355
        },
        "outputId": "4230cf67-b302-4363-956b-af52a54f4a85"
      },
      "source": [
        "#Trades vs weekdays chart\n",
        "sns.barplot(df.Weekdays,df.Trades)"
      ],
      "execution_count": 99,
      "outputs": [
        {
          "output_type": "stream",
          "text": [
            "/usr/local/lib/python3.7/dist-packages/seaborn/_decorators.py:43: FutureWarning: Pass the following variables as keyword args: x, y. From version 0.12, the only valid positional argument will be `data`, and passing other arguments without an explicit keyword will result in an error or misinterpretation.\n",
            "  FutureWarning\n"
          ],
          "name": "stderr"
        },
        {
          "output_type": "execute_result",
          "data": {
            "text/plain": [
              "<matplotlib.axes._subplots.AxesSubplot at 0x7f7aadae2d50>"
            ]
          },
          "metadata": {
            "tags": []
          },
          "execution_count": 99
        },
        {
          "output_type": "display_data",
          "data": {
            "image/png": "[encoded data removed]",
            "text/plain": [
              "<Figure size 432x288 with 1 Axes>"
            ]
          },
          "metadata": {
            "tags": []
          }
        }
      ]
    },
    {
      "cell_type": "code",
      "metadata": {
        "id": "bk8oaP61kWzs",
        "trusted": true,
        "colab": {
          "base_uri": "https://localhost:8080/",
          "height": 354
        },
        "outputId": "9528bd61-b00c-4591-f214-d669aaa8e88c"
      },
      "source": [
        "#highest opening price of day over year analysis\n",
        "sns.barplot(df.Year,df.High)"
      ],
      "execution_count": 100,
      "outputs": [
        {
          "output_type": "stream",
          "text": [
            "/usr/local/lib/python3.7/dist-packages/seaborn/_decorators.py:43: FutureWarning: Pass the following variables as keyword args: x, y. From version 0.12, the only valid positional argument will be `data`, and passing other arguments without an explicit keyword will result in an error or misinterpretation.\n",
            "  FutureWarning\n"
          ],
          "name": "stderr"
        },
        {
          "output_type": "execute_result",
          "data": {
            "text/plain": [
              "<matplotlib.axes._subplots.AxesSubplot at 0x7f7aada769d0>"
            ]
          },
          "metadata": {
            "tags": []
          },
          "execution_count": 100
        },
        {
          "output_type": "display_data",
          "data": {
            "image/png": "[encoded data removed]",
            "text/plain": [
              "<Figure size 432x288 with 1 Axes>"
            ]
          },
          "metadata": {
            "tags": []
          }
        }
      ]
    },
    {
      "cell_type": "code",
      "metadata": {
        "id": "Wxy23U9ckW4J",
        "trusted": true,
        "colab": {
          "base_uri": "https://localhost:8080/",
          "height": 354
        },
        "outputId": "a809860d-d03b-43f1-a83d-2cdd5b2ef41e"
      },
      "source": [
        "#lowest opening price of day over year analysis\n",
        "sns.barplot(df.Year,df.Low)"
      ],
      "execution_count": 101,
      "outputs": [
        {
          "output_type": "stream",
          "text": [
            "/usr/local/lib/python3.7/dist-packages/seaborn/_decorators.py:43: FutureWarning: Pass the following variables as keyword args: x, y. From version 0.12, the only valid positional argument will be `data`, and passing other arguments without an explicit keyword will result in an error or misinterpretation.\n",
            "  FutureWarning\n"
          ],
          "name": "stderr"
        },
        {
          "output_type": "execute_result",
          "data": {
            "text/plain": [
              "<matplotlib.axes._subplots.AxesSubplot at 0x7f7aad9792d0>"
            ]
          },
          "metadata": {
            "tags": []
          },
          "execution_count": 101
        },
        {
          "output_type": "display_data",
          "data": {
            "image/png": "[encoded data removed]",
            "text/plain": [
              "<Figure size 432x288 with 1 Axes>"
            ]
          },
          "metadata": {
            "tags": []
          }
        }
      ]
    },
    {
      "cell_type": "markdown",
      "metadata": {
        "id": "ZUabkMeTO7x3"
      },
      "source": [
        "#RESULTS"
      ]
    },
    {
      "cell_type": "markdown",
      "metadata": {
        "id": "71EU0GnMqgfQ"
      },
      "source": [
        "Questions that came during analysis\n",
        "\n",
        "1. which is the most trading day?\n",
        "2. which month we had seen trading all time high?\n",
        "3. what is the trend of trading year over year?\n",
        "2. what is the highest and lowest turnover?\n",
        "3. highest and lowest volume days?\n"
      ]
    },
    {
      "cell_type": "markdown",
      "metadata": {
        "id": "WWzn_AFrkXuE"
      },
      "source": [
        "SUMMARY AND CONCLUSION\n",
        "\n",
        "Insights:\n",
        "\n",
        "*   The days when volume was greater than 10,00,0000 on basis of everdays volume is 11.73%.\n",
        "*   The days when volume was less than 1,00,000 on basis of everdays volume is 13.99%.\n",
        "*   The days when No. of trades was greater than 7,00,000 on basis of everdays is 0.3%.\n",
        "*   The days when No. of trades was less than 10,000 on basis of everdays is 0.2%.\n",
        "*   Usually after analysis we can say most trading days are from monday to friday. There is usually less or no to trading on saturdays and sundays.\n",
        "*   We have seen the most trading on basis of months after the analysis is almost equal for all months or we can say that small difference will be there.\n",
        "*   Talking about the trend of trading on basis of years, we can say that it has only increasd and for till now with analysis we can say that 2020 year is the most trading year.\n",
        "*   Highest turnover of the company = 990737.0\n",
        "*   Lowest turnover of the company = 2698.0\n",
        "*  Talking about volume, company has as increasd it year over year and from analysis we can say 2020 has the most of it.\n",
        "*   All months are mostly happening month for volumes of the company.Still we can say April is best.\n",
        "*   Highest opening price and lowest opening price of the years was between 2010-2020.\n",
        "\n",
        "\n",
        "\n",
        "\n",
        "\n",
        "\n",
        "\n",
        "\n",
        "\n",
        "\n",
        "\n",
        "\n",
        "\n",
        "\n"
      ]
    },
    {
      "cell_type": "code",
      "metadata": {
        "id": "BL8IWTdDkXOC"
      },
      "source": [
        ""
      ],
      "execution_count": null,
      "outputs": []
    },
    {
      "cell_type": "code",
      "metadata": {
        "id": "cZwaJYXCFWWP"
      },
      "source": [
        ""
      ],
      "execution_count": null,
      "outputs": []
    }
  ]
}